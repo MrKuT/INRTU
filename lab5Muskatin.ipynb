{
 "cells": [
  {
   "cell_type": "markdown",
   "id": "358654fc",
   "metadata": {},
   "source": [
    "# Лабораторная работа №1 Мускатин КСм-21-1"
   ]
  },
  {
   "cell_type": "markdown",
   "id": "fa6b4abf",
   "metadata": {},
   "source": [
    "Подключаем библиотеку findspark, для работы с большими данными с помощью технологии Spark"
   ]
  },
  {
   "cell_type": "code",
   "execution_count": 1,
   "id": "dc9527d3",
   "metadata": {},
   "outputs": [],
   "source": [
    "import findspark #для работы с большими данными\n",
    "\n",
    "findspark.init()"
   ]
  },
  {
   "cell_type": "markdown",
   "id": "d82020b0",
   "metadata": {},
   "source": [
    "Выполним подключение библиотеки pyspark и выполним запуск и инцилизацию сессии.  Назаовем документ сессии Lab_Muskatin"
   ]
  },
  {
   "cell_type": "code",
   "execution_count": 2,
   "id": "7e4b950f",
   "metadata": {},
   "outputs": [],
   "source": [
    "import pyspark\n",
    "\n",
    "from pyspark.sql import SparkSession\n",
    "\n",
    "spark = SparkSession.builder.appName('Lab_Muskatin').getOrCreate() "
   ]
  },
  {
   "cell_type": "markdown",
   "id": "48e65b53",
   "metadata": {},
   "source": [
    "Загрузим данные из csv-файла. Первая строка является заголовками атрибтутов (header=true). Типизация автоматическая, Spark будет пытаться определить типы данных столбцов автоматически, основываясь на содержимом файла (inferSchema = True). "
   ]
  },
  {
   "cell_type": "code",
   "execution_count": 3,
   "id": "e06e2704",
   "metadata": {},
   "outputs": [],
   "source": [
    "df = spark.read.csv('EcommerceCustomers.csv', inferSchema = True, header = True)"
   ]
  },
  {
   "cell_type": "markdown",
   "id": "54f5f8b8",
   "metadata": {},
   "source": [
    "Проверим корректность определения типа данных с помощью pyspark. "
   ]
  },
  {
   "cell_type": "code",
   "execution_count": 4,
   "id": "2daa7dd2",
   "metadata": {},
   "outputs": [
    {
     "name": "stdout",
     "output_type": "stream",
     "text": [
      "root\n",
      " |-- Email: string (nullable = true)\n",
      " |-- Address: string (nullable = true)\n",
      " |-- Avatar: string (nullable = true)\n",
      " |-- Avg Session Length: double (nullable = true)\n",
      " |-- Time on App: double (nullable = true)\n",
      " |-- Time on Website: double (nullable = true)\n",
      " |-- Length of Membership: double (nullable = true)\n",
      " |-- Yearly Amount Spent: double (nullable = true)\n",
      "\n"
     ]
    }
   ],
   "source": [
    "df.printSchema()"
   ]
  },
  {
   "cell_type": "markdown",
   "id": "1a95f6be",
   "metadata": {},
   "source": [
    "Просмотрим наши исходные данные "
   ]
  },
  {
   "cell_type": "markdown",
   "id": "c4769769",
   "metadata": {},
   "source": [
    "Можно утверждать что pyspark корректно определил типы данных."
   ]
  },
  {
   "cell_type": "code",
   "execution_count": 5,
   "id": "0f13c357",
   "metadata": {},
   "outputs": [
    {
     "name": "stdout",
     "output_type": "stream",
     "text": [
      "+--------------------+--------------------+----------------+------------------+------------------+------------------+--------------------+-------------------+\n",
      "|               Email|             Address|          Avatar|Avg Session Length|       Time on App|   Time on Website|Length of Membership|Yearly Amount Spent|\n",
      "+--------------------+--------------------+----------------+------------------+------------------+------------------+--------------------+-------------------+\n",
      "|mstephenson@ferna...|835 Frank TunnelW...|          Violet| 34.49726772511229| 12.65565114916675| 39.57766801952616|  4.0826206329529615|  587.9510539684005|\n",
      "|   hduke@hotmail.com|4547 Archer Commo...|       DarkGreen| 31.92627202636016|11.109460728682564|37.268958868297744|    2.66403418213262|  392.2049334443264|\n",
      "|    pallen@yahoo.com|24645 Valerie Uni...|          Bisque|33.000914755642675|11.330278057777512|37.110597442120856|   4.104543202376424| 487.54750486747207|\n",
      "|riverarebecca@gma...|1414 David Throug...|     SaddleBrown| 34.30555662975554|13.717513665142507| 36.72128267790313|   3.120178782748092|  581.8523440352177|\n",
      "|mstephens@davidso...|14023 Rodriguez P...|MediumAquaMarine| 33.33067252364639|12.795188551078114| 37.53665330059473|   4.446308318351434|  599.4060920457634|\n",
      "|alvareznancy@luca...|645 Martha Park A...|     FloralWhite|33.871037879341976|12.026925339755056| 34.47687762925054|   5.493507201364199|   637.102447915074|\n",
      "|katherine20@yahoo...|68388 Reyes Light...|   DarkSlateBlue| 32.02159550138701|11.366348309710526| 36.68377615286961|   4.685017246570912|  521.5721747578274|\n",
      "|  awatkins@yahoo.com|Unit 6538 Box 898...|            Aqua|32.739142938380326| 12.35195897300293| 37.37335885854755|  4.4342734348999375|  549.9041461052942|\n",
      "|vchurch@walter-ma...|860 Lee KeyWest D...|          Salmon| 33.98777289568564|13.386235275676436|37.534497341555735|  3.2734335777477144|  570.2004089636196|\n",
      "|    bonnie69@lin.biz|PSC 2734, Box 525...|           Brown|31.936548618448917|11.814128294972196| 37.14516822352819|   3.202806071553459|  427.1993848953282|\n",
      "|andrew06@peterson...|26104 Alexander G...|          Tomato|33.992572774953736|13.338975447662113| 37.22580613162114|   2.482607770510596|  492.6060127179966|\n",
      "|ryanwerner@freema...|Unit 2413 Box 034...|          Tomato| 33.87936082480498|11.584782999535266| 37.08792607098381|    3.71320920294043|  522.3374046069357|\n",
      "|   knelson@gmail.com|6705 Miller Orcha...|       RoyalBlue|29.532428967057943|10.961298400154098| 37.42021557502538|   4.046423164299585|  408.6403510726275|\n",
      "|wrightpeter@yahoo...|05302 Dunlap Ferr...|          Bisque| 33.19033404372265|12.959226091609382|36.144666700041924|   3.918541839158999|  573.4158673313865|\n",
      "|taylormason@gmail...|7773 Powell Sprin...|        DarkBlue|32.387975853153876|13.148725692056516| 36.61995708279922|   2.494543646659249|  470.4527333009554|\n",
      "| jstark@anderson.com|49558 Ramirez Roa...|            Peru|30.737720372628182|12.636606052000127|36.213763093698624|  3.3578468423262944|  461.7807421962299|\n",
      "| wjennings@gmail.com|6362 Wilson Mount...|      PowderBlue| 32.12538689728784|11.733861690857394|  34.8940927514398|  3.1361327164897803| 457.84769594494855|\n",
      "|rebecca45@hale-ba...|8982 Burton RowWi...|       OliveDrab|32.338899323067196|12.013194694014402| 38.38513659413844|   2.420806160901484| 407.70454754954415|\n",
      "|alejandro75@hotma...|64475 Andre Club ...|            Cyan|32.187812045932155|  14.7153875441565| 38.24411459434352|   1.516575580831944|  452.3156754800354|\n",
      "|samuel46@love-wes...|544 Alexander Hei...|   LightSeaGreen| 32.61785606282345|13.989592555825254|37.190503800397956|   4.064548550437977|   605.061038804892|\n",
      "+--------------------+--------------------+----------------+------------------+------------------+------------------+--------------------+-------------------+\n",
      "only showing top 20 rows\n",
      "\n"
     ]
    }
   ],
   "source": [
    "df.show()"
   ]
  },
  {
   "cell_type": "markdown",
   "id": "3552f5e2",
   "metadata": {},
   "source": [
    "Для создания вектора, содержащего характеристики, необходимо импортировать соответствующие библиотеки."
   ]
  },
  {
   "cell_type": "code",
   "execution_count": 6,
   "id": "f9ab3a3c",
   "metadata": {},
   "outputs": [],
   "source": [
    "from pyspark.ml.linalg import Vectors\n",
    "\n",
    "from pyspark.ml.feature import VectorAssembler"
   ]
  },
  {
   "cell_type": "markdown",
   "id": "2669b6e4",
   "metadata": {},
   "source": [
    "Давайте рассмотрим характеристики email, address и avatat. "
   ]
  },
  {
   "cell_type": "code",
   "execution_count": 7,
   "id": "c69b6829",
   "metadata": {},
   "outputs": [
    {
     "name": "stdout",
     "output_type": "stream",
     "text": [
      "+--------------------+-----+\n",
      "|               Email|count|\n",
      "+--------------------+-----+\n",
      "|    dblair@gmail.com|    1|\n",
      "|   yvaughn@meyer.com|    1|\n",
      "|cbrady@gonzalez-m...|    1|\n",
      "|russellbaldwin@fe...|    1|\n",
      "|vancealicia@hotma...|    1|\n",
      "|alvareznancy@luca...|    1|\n",
      "|kcannon@alvarez-c...|    1|\n",
      "|djohnson@hotmail.com|    1|\n",
      "|mstephens@davidso...|    1|\n",
      "|phillipscarrie@gm...|    1|\n",
      "|christopher20@gma...|    1|\n",
      "|  kelly24@lewis.info|    1|\n",
      "| scottrose@yahoo.com|    1|\n",
      "|  paulkemp@yahoo.com|    1|\n",
      "| gharrison@davis.com|    1|\n",
      "|   pvega@hotmail.com|    1|\n",
      "| jstark@anderson.com|    1|\n",
      "|    esmith@gmail.com|    1|\n",
      "|alexandermichael@...|    1|\n",
      "|rcarter@crane-tho...|    1|\n",
      "+--------------------+-----+\n",
      "only showing top 20 rows\n",
      "\n",
      "+--------------------+-----+\n",
      "|             Address|count|\n",
      "+--------------------+-----+\n",
      "|368 Morris Ports ...|    1|\n",
      "|983 Ross GlenWest...|    1|\n",
      "|036 Mary Drive Ap...|    1|\n",
      "|186 Anthony Route...|    1|\n",
      "|8594 Erica Manors...|    1|\n",
      "|Unit 6538 Box 898...|    1|\n",
      "|5086 Morales Isla...|    1|\n",
      "|Unit 3998 Box 434...|    1|\n",
      "|344 Jessica Strav...|    1|\n",
      "|38154 Davis Locks...|    1|\n",
      "|496 Bush Turnpike...|    1|\n",
      "|USCGC GillFPO AA ...|    1|\n",
      "|10022 Wilson Orch...|    1|\n",
      "|16001 Wilkins Isl...|    1|\n",
      "|667 Stephanie Lak...|    1|\n",
      "|66340 Michael Lan...|    1|\n",
      "|3874 Harper Plaza...|    1|\n",
      "|967 Andrew SpursM...|    1|\n",
      "|2583 Mark Springs...|    1|\n",
      "|623 Erica FlatLak...|    1|\n",
      "+--------------------+-----+\n",
      "only showing top 20 rows\n",
      "\n",
      "+--------------+-----+\n",
      "|        Avatar|count|\n",
      "+--------------+-----+\n",
      "|   ForestGreen|    2|\n",
      "|       DimGray|    4|\n",
      "|      SeaGreen|    4|\n",
      "|          Aqua|    6|\n",
      "|          Teal|    7|\n",
      "|    DodgerBlue|    3|\n",
      "|     MintCream|    3|\n",
      "|         Khaki|    2|\n",
      "|     LightGray|    3|\n",
      "|     LightBlue|    2|\n",
      "|         Olive|    5|\n",
      "|     OrangeRed|    2|\n",
      "|LightSteelBlue|    3|\n",
      "|      SeaShell|    3|\n",
      "|       Crimson|    5|\n",
      "|     BurlyWood|    3|\n",
      "|       SkyBlue|    2|\n",
      "|        Orange|    6|\n",
      "|  MediumOrchid|    2|\n",
      "|     SteelBlue|    5|\n",
      "+--------------+-----+\n",
      "only showing top 20 rows\n",
      "\n"
     ]
    }
   ],
   "source": [
    "df.groupBy('Email').count().show()\n",
    "df.groupBy('Address').count().show()\n",
    "df.groupBy('Avatar').count().show()"
   ]
  },
  {
   "cell_type": "markdown",
   "id": "a60d2dba",
   "metadata": {},
   "source": [
    "Можно сделать вывод, что атрибуты Email, Address и Avatar являются категориальными, так как они содержат большое количество уникальных значений, которые нельзя разбить на категории. Приведение их к числовому формату не имеет смысла, поэтому мы можем исключить эти атрибуты из анализа. "
   ]
  },
  {
   "cell_type": "markdown",
   "id": "fd19f8e8",
   "metadata": {},
   "source": [
    "Давайте выведем список всех атрибутов для удобства копирования."
   ]
  },
  {
   "cell_type": "code",
   "execution_count": 8,
   "id": "f2d63ecd",
   "metadata": {},
   "outputs": [
    {
     "data": {
      "text/plain": [
       "['Email',\n",
       " 'Address',\n",
       " 'Avatar',\n",
       " 'Avg Session Length',\n",
       " 'Time on App',\n",
       " 'Time on Website',\n",
       " 'Length of Membership',\n",
       " 'Yearly Amount Spent']"
      ]
     },
     "execution_count": 8,
     "metadata": {},
     "output_type": "execute_result"
    }
   ],
   "source": [
    "df.columns"
   ]
  },
  {
   "cell_type": "markdown",
   "id": "08ba45cf",
   "metadata": {},
   "source": [
    "Создадим вектор данных, указав атрибуты, которые будут использоваться на входе, и назовем выходные данные \"features\"."
   ]
  },
  {
   "cell_type": "code",
   "execution_count": 9,
   "id": "eeb83bf9",
   "metadata": {},
   "outputs": [],
   "source": [
    "assembler = VectorAssembler(\n",
    "    inputCols=[ \n",
    "        'Avg Session Length',\n",
    "        'Time on App',\n",
    "        'Time on Website',\n",
    "        'Length of Membership'],\n",
    "    outputCol = \"features\")"
   ]
  },
  {
   "cell_type": "markdown",
   "id": "0e4634b8",
   "metadata": {},
   "source": [
    "Преобразуем наши данные, используя новый векторный сборщик (assembler)."
   ]
  },
  {
   "cell_type": "code",
   "execution_count": 13,
   "id": "351923f2",
   "metadata": {},
   "outputs": [
    {
     "name": "stdout",
     "output_type": "stream",
     "text": [
      "root\n",
      " |-- Email: string (nullable = true)\n",
      " |-- Address: string (nullable = true)\n",
      " |-- Avatar: string (nullable = true)\n",
      " |-- Avg Session Length: double (nullable = true)\n",
      " |-- Time on App: double (nullable = true)\n",
      " |-- Time on Website: double (nullable = true)\n",
      " |-- Length of Membership: double (nullable = true)\n",
      " |-- Yearly Amount Spent: double (nullable = true)\n",
      " |-- features: vector (nullable = true)\n",
      "\n"
     ]
    }
   ],
   "source": [
    "output = assembler.transform(df)\n",
    "output.printSchema()"
   ]
  },
  {
   "cell_type": "markdown",
   "id": "d745dd74",
   "metadata": {},
   "source": [
    "Теперь мы можем заметить, что появился новый атрибут \"features\", который содержит все характеристики. Давайте выведем первую строку данных, чтобы посмотреть на результат."
   ]
  },
  {
   "cell_type": "code",
   "execution_count": 14,
   "id": "3299eda5",
   "metadata": {},
   "outputs": [
    {
     "data": {
      "text/plain": [
       "[Row(Email='mstephenson@fernandez.com', Address='835 Frank TunnelWrightmouth, MI 82180-9605', Avatar='Violet', Avg Session Length=34.49726772511229, Time on App=12.65565114916675, Time on Website=39.57766801952616, Length of Membership=4.0826206329529615, Yearly Amount Spent=587.9510539684005, features=DenseVector([34.4973, 12.6557, 39.5777, 4.0826]))]"
      ]
     },
     "execution_count": 14,
     "metadata": {},
     "output_type": "execute_result"
    }
   ],
   "source": [
    "output.head(1)"
   ]
  },
  {
   "cell_type": "markdown",
   "id": "b3d8be44",
   "metadata": {},
   "source": [
    "Наша целевая переменная - \"Yearly Amount Spent\". Теперь нам нужно сделать выборку из характеристик и целевой переменной. "
   ]
  },
  {
   "cell_type": "code",
   "execution_count": 15,
   "id": "1b6a6277",
   "metadata": {},
   "outputs": [
    {
     "name": "stdout",
     "output_type": "stream",
     "text": [
      "+--------------------+-------------------+\n",
      "|            features|Yearly Amount Spent|\n",
      "+--------------------+-------------------+\n",
      "|[34.4972677251122...|  587.9510539684005|\n",
      "|[31.9262720263601...|  392.2049334443264|\n",
      "|[33.0009147556426...| 487.54750486747207|\n",
      "|[34.3055566297555...|  581.8523440352177|\n",
      "|[33.3306725236463...|  599.4060920457634|\n",
      "|[33.8710378793419...|   637.102447915074|\n",
      "|[32.0215955013870...|  521.5721747578274|\n",
      "|[32.7391429383803...|  549.9041461052942|\n",
      "|[33.9877728956856...|  570.2004089636196|\n",
      "|[31.9365486184489...|  427.1993848953282|\n",
      "|[33.9925727749537...|  492.6060127179966|\n",
      "|[33.8793608248049...|  522.3374046069357|\n",
      "|[29.5324289670579...|  408.6403510726275|\n",
      "|[33.1903340437226...|  573.4158673313865|\n",
      "|[32.3879758531538...|  470.4527333009554|\n",
      "|[30.7377203726281...|  461.7807421962299|\n",
      "|[32.1253868972878...| 457.84769594494855|\n",
      "|[32.3388993230671...| 407.70454754954415|\n",
      "|[32.1878120459321...|  452.3156754800354|\n",
      "|[32.6178560628234...|   605.061038804892|\n",
      "+--------------------+-------------------+\n",
      "only showing top 20 rows\n",
      "\n"
     ]
    }
   ],
   "source": [
    "output.select(\"features\",\"Yearly Amount Spent\").show()"
   ]
  },
  {
   "cell_type": "markdown",
   "id": "50756d71",
   "metadata": {},
   "source": [
    "Выберем характеристики и целевую переменную из наших данных и запишем их в переменную \"final_data\"."
   ]
  },
  {
   "cell_type": "code",
   "execution_count": 16,
   "id": "4842f46a",
   "metadata": {},
   "outputs": [],
   "source": [
    "final_data = output.select(\"features\",\"Yearly Amount Spent\")"
   ]
  },
  {
   "cell_type": "markdown",
   "id": "28b6b903",
   "metadata": {},
   "source": [
    "Давайте разобьем наши данные на обучающую и тестовую выборки в соотношении 70/30. 70% данных будут использоваться для обучения, а 30% - для тестирования."
   ]
  },
  {
   "cell_type": "code",
   "execution_count": 17,
   "id": "fabbf05c",
   "metadata": {},
   "outputs": [],
   "source": [
    "train_data, test_data = final_data.randomSplit([0.7,0.3])"
   ]
  },
  {
   "cell_type": "markdown",
   "id": "d1ab9905",
   "metadata": {},
   "source": [
    "Импортируем библиотеку для выполнения регрессии и создадим экземпляр линейной регрессии."
   ]
  },
  {
   "cell_type": "code",
   "execution_count": 18,
   "id": "1123a8dc",
   "metadata": {},
   "outputs": [],
   "source": [
    "from pyspark.ml.regression import LinearRegression\n",
    "lr = LinearRegression(labelCol = 'Yearly Amount Spent')"
   ]
  },
  {
   "cell_type": "markdown",
   "id": "da4830af",
   "metadata": {},
   "source": [
    "Выполним обучение нашей модели на данных в train_data"
   ]
  },
  {
   "cell_type": "code",
   "execution_count": 19,
   "id": "a39830cb",
   "metadata": {},
   "outputs": [],
   "source": [
    "lrModel = lr.fit(train_data) "
   ]
  },
  {
   "cell_type": "markdown",
   "id": "db521c60",
   "metadata": {},
   "source": [
    "Выполним вывод коэффициентов регрессии."
   ]
  },
  {
   "cell_type": "code",
   "execution_count": 20,
   "id": "05d2a77c",
   "metadata": {},
   "outputs": [
    {
     "name": "stdout",
     "output_type": "stream",
     "text": [
      "Coefficients: [25.928625980246384,38.85623722110138,0.5673278797515255,61.43630076273912] Intercept: -1064.1273622170554\n"
     ]
    }
   ],
   "source": [
    "print(\"Coefficients: {} Intercept: {}\".format(lrModel.coefficients,lrModel.intercept))"
   ]
  },
  {
   "cell_type": "markdown",
   "id": "0ed73f73",
   "metadata": {},
   "source": [
    "Давайте произведем оценку качества работы нашей модели на тестовых данных, используя метрику RMSE."
   ]
  },
  {
   "cell_type": "code",
   "execution_count": 23,
   "id": "41bcd7b7",
   "metadata": {},
   "outputs": [
    {
     "name": "stdout",
     "output_type": "stream",
     "text": [
      "RMSE: 9.703421245287053\n"
     ]
    }
   ],
   "source": [
    "test_results = lrModel.evaluate(test_data)\n",
    "print(\"RMSE: {}\".format(test_results.rootMeanSquaredError))"
   ]
  },
  {
   "cell_type": "markdown",
   "id": "1ca12e32",
   "metadata": {},
   "source": [
    "Выведем описание данных "
   ]
  },
  {
   "cell_type": "code",
   "execution_count": 24,
   "id": "18ef393e",
   "metadata": {},
   "outputs": [
    {
     "name": "stdout",
     "output_type": "stream",
     "text": [
      "+-------+-------------------+\n",
      "|summary|Yearly Amount Spent|\n",
      "+-------+-------------------+\n",
      "|  count|                363|\n",
      "|   mean|  499.4642237588002|\n",
      "| stddev|   76.5343877130778|\n",
      "|    min|  282.4712457199145|\n",
      "|    max|  725.5848140556806|\n",
      "+-------+-------------------+\n",
      "\n"
     ]
    }
   ],
   "source": [
    "train_data.describe().show()"
   ]
  },
  {
   "cell_type": "markdown",
   "id": "32d5161c",
   "metadata": {},
   "source": [
    "Видим, что ошибка соизмерима с данными целевой переменной"
   ]
  },
  {
   "cell_type": "markdown",
   "id": "54b780ba",
   "metadata": {},
   "source": [
    "Выведем значение R²"
   ]
  },
  {
   "cell_type": "code",
   "execution_count": 25,
   "id": "c55f7200",
   "metadata": {},
   "outputs": [
    {
     "name": "stdout",
     "output_type": "stream",
     "text": [
      "R²: 0.9873370812936323\n"
     ]
    }
   ],
   "source": [
    "print(\"R²: {}\".format(test_results.r2))"
   ]
  },
  {
   "cell_type": "markdown",
   "id": "c044d06f",
   "metadata": {},
   "source": [
    "Наша модель объясняет ~99% данных."
   ]
  },
  {
   "cell_type": "markdown",
   "id": "1dc7dd3e",
   "metadata": {},
   "source": [
    "# Корреляция Пирсона"
   ]
  },
  {
   "cell_type": "markdown",
   "id": "0be17960",
   "metadata": {},
   "source": [
    "Импортируем функцию corr, используемую для определения корреляции между атрибутами и целевой переменной."
   ]
  },
  {
   "cell_type": "code",
   "execution_count": 26,
   "id": "ca9d954a",
   "metadata": {},
   "outputs": [],
   "source": [
    "from pyspark.sql.functions import corr"
   ]
  },
  {
   "cell_type": "markdown",
   "id": "50810fa2",
   "metadata": {},
   "source": [
    "Давайте посмотрим на корреляцию между атрибутами Yearly Amount Spent и Avg Session Length."
   ]
  },
  {
   "cell_type": "code",
   "execution_count": 27,
   "id": "329e1a01",
   "metadata": {},
   "outputs": [
    {
     "name": "stdout",
     "output_type": "stream",
     "text": [
      "+---------------------------------------------+\n",
      "|corr(Yearly Amount Spent, Avg Session Length)|\n",
      "+---------------------------------------------+\n",
      "|                          0.35508829470764314|\n",
      "+---------------------------------------------+\n",
      "\n"
     ]
    }
   ],
   "source": [
    "df.select(corr('Yearly Amount Spent','Avg Session Length')).show()"
   ]
  },
  {
   "cell_type": "markdown",
   "id": "7e083f4a",
   "metadata": {},
   "source": [
    "Значение коэффициента корреляции между атрибутами Yearly Amount Spent и Avg Session Length составляет около 0.355, что говорит о наличии умеренной прямой зависимости между ними."
   ]
  },
  {
   "cell_type": "markdown",
   "id": "9897c314",
   "metadata": {},
   "source": [
    "Посмотрим на корреляцию между атрибутами Yearly Amount Spent и Time on App"
   ]
  },
  {
   "cell_type": "code",
   "execution_count": 28,
   "id": "30d10cc9",
   "metadata": {},
   "outputs": [
    {
     "name": "stdout",
     "output_type": "stream",
     "text": [
      "+--------------------------------------+\n",
      "|corr(Yearly Amount Spent, Time on App)|\n",
      "+--------------------------------------+\n",
      "|                   0.49932777005345047|\n",
      "+--------------------------------------+\n",
      "\n"
     ]
    }
   ],
   "source": [
    "df.select(corr('Yearly Amount Spent','Time on App')).show()"
   ]
  },
  {
   "cell_type": "markdown",
   "id": "f17dfa82",
   "metadata": {},
   "source": [
    "Между атрибутами Yearly Amount Spent и Time on App наблюдается умеренная прямая зависимость, что подтверждается коэффициентом корреляции, равным ~0.5."
   ]
  },
  {
   "cell_type": "markdown",
   "id": "47841cfb",
   "metadata": {},
   "source": [
    "Рассмотрим корреляцию между атрибутами Yearly Amount Spent и Time on Website"
   ]
  },
  {
   "cell_type": "code",
   "execution_count": 29,
   "id": "3f71bcbe",
   "metadata": {},
   "outputs": [
    {
     "name": "stdout",
     "output_type": "stream",
     "text": [
      "+------------------------------------------+\n",
      "|corr(Yearly Amount Spent, Time on Website)|\n",
      "+------------------------------------------+\n",
      "|                      -0.00264084467215...|\n",
      "+------------------------------------------+\n",
      "\n"
     ]
    }
   ],
   "source": [
    "df.select(corr('Yearly Amount Spent','Time on Website')).show()"
   ]
  },
  {
   "cell_type": "markdown",
   "id": "91756e1f",
   "metadata": {},
   "source": [
    "Коэффициент корреляции между Yearly Amount Spent и Time on Website близок к нулю (-0.00264084467215...), что означает практически отсутствие линейной зависимости между этими двумя атрибутами."
   ]
  },
  {
   "cell_type": "markdown",
   "id": "280d7d63",
   "metadata": {},
   "source": [
    "Посмотрим на корелляцию между Yearly Amount Spent и Length of Membership"
   ]
  },
  {
   "cell_type": "code",
   "execution_count": 30,
   "id": "0cf5d9ba",
   "metadata": {},
   "outputs": [
    {
     "name": "stdout",
     "output_type": "stream",
     "text": [
      "+-----------------------------------------------+\n",
      "|corr(Yearly Amount Spent, Length of Membership)|\n",
      "+-----------------------------------------------+\n",
      "|                             0.8090835682475807|\n",
      "+-----------------------------------------------+\n",
      "\n"
     ]
    }
   ],
   "source": [
    "df.select(corr('Yearly Amount Spent','Length of Membership')).show()"
   ]
  },
  {
   "cell_type": "markdown",
   "id": "e344a093",
   "metadata": {},
   "source": [
    "Коэффициент корреляции между Yearly Amount Spent и Length of Membership равен примерно 0.809, что говорит о наличии сильной прямой зависимости между этими двумя атрибутами."
   ]
  },
  {
   "cell_type": "markdown",
   "id": "bbcdcdcb",
   "metadata": {},
   "source": [
    "Проверим работу модели на данных, для которых не будут даны выводы."
   ]
  },
  {
   "cell_type": "code",
   "execution_count": 33,
   "id": "82560284",
   "metadata": {},
   "outputs": [
    {
     "name": "stdout",
     "output_type": "stream",
     "text": [
      "+--------------------+\n",
      "|            features|\n",
      "+--------------------+\n",
      "|[30.3931845423455...|\n",
      "|[30.7377203726281...|\n",
      "|[30.8162006488763...|\n",
      "|[30.8794843441274...|\n",
      "|[30.9716756438877...|\n",
      "|[31.1239743499119...|\n",
      "|[31.1695067987115...|\n",
      "|[31.2681042107507...|\n",
      "|[31.2834474760581...|\n",
      "|[31.3091926408918...|\n",
      "|[31.4252268808548...|\n",
      "|[31.4459724827577...|\n",
      "|[31.5171218025062...|\n",
      "|[31.6548096756927...|\n",
      "|[31.6739155032749...|\n",
      "|[31.7207699002873...|\n",
      "|[31.8124825597242...|\n",
      "|[31.8512531286083...|\n",
      "|[31.8854062999117...|\n",
      "|[31.9453957483445...|\n",
      "+--------------------+\n",
      "only showing top 20 rows\n",
      "\n"
     ]
    }
   ],
   "source": [
    "unlabled_data = test_data.select('features')\n",
    "unlabled_data.show()"
   ]
  },
  {
   "cell_type": "markdown",
   "id": "d6d2038c",
   "metadata": {},
   "source": [
    "Посмотрим на прогнозы, которые мы сделали, относительно используемых атрибутов(features)."
   ]
  },
  {
   "cell_type": "code",
   "execution_count": 34,
   "id": "802bbbb8",
   "metadata": {},
   "outputs": [
    {
     "name": "stdout",
     "output_type": "stream",
     "text": [
      "+--------------------+------------------+\n",
      "|            features|        prediction|\n",
      "+--------------------+------------------+\n",
      "|[30.3931845423455...|331.17054776783743|\n",
      "|[30.7377203726281...| 450.7092211904869|\n",
      "|[30.8162006488763...|282.97665475889244|\n",
      "|[30.8794843441274...| 493.7767834852948|\n",
      "|[30.9716756438877...|  487.167839020771|\n",
      "|[31.1239743499119...| 507.8517954734441|\n",
      "|[31.1695067987115...| 417.3644306348574|\n",
      "|[31.2681042107507...|426.88789301501697|\n",
      "|[31.2834474760581...| 569.0821661921448|\n",
      "|[31.3091926408918...|429.36722142394024|\n",
      "|[31.4252268808548...| 534.5955017158647|\n",
      "|[31.4459724827577...| 481.9957098408381|\n",
      "|[31.5171218025062...|280.37489878245765|\n",
      "|[31.6548096756927...| 468.7061976144778|\n",
      "|[31.6739155032749...|  501.899084729607|\n",
      "|[31.7207699002873...| 545.5362647502659|\n",
      "|[31.8124825597242...|395.76189990150056|\n",
      "|[31.8512531286083...|464.47211019534166|\n",
      "|[31.8854062999117...| 398.9665880128962|\n",
      "|[31.9453957483445...| 662.2727433297489|\n",
      "+--------------------+------------------+\n",
      "only showing top 20 rows\n",
      "\n"
     ]
    }
   ],
   "source": [
    "predictions = lrModel.transform(unlabled_data)\n",
    "predictions.show()"
   ]
  }
 ],
 "metadata": {
  "kernelspec": {
   "display_name": "Python 3 (ipykernel)",
   "language": "python",
   "name": "python3"
  },
  "language_info": {
   "codemirror_mode": {
    "name": "ipython",
    "version": 3
   },
   "file_extension": ".py",
   "mimetype": "text/x-python",
   "name": "python",
   "nbconvert_exporter": "python",
   "pygments_lexer": "ipython3",
   "version": "3.9.13"
  }
 },
 "nbformat": 4,
 "nbformat_minor": 5
}
