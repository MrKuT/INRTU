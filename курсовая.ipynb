{
 "cells": [
  {
   "cell_type": "markdown",
   "id": "962652cb",
   "metadata": {},
   "source": [
    "# Курсовая"
   ]
  },
  {
   "cell_type": "markdown",
   "id": "9fd26a3a",
   "metadata": {},
   "source": [
    "### Цель: прогнозирование успеваемости студентов\n",
    "\n",
    "Используя набор данных “Test scores”, который содержит информацию о\n",
    "студентах и их оценках на пробных выпускных тестах в школе, необходимо построить\n",
    "регрессионную модель для прогнозирования итоговых оценок за экзамен.\n"
   ]
  },
  {
   "cell_type": "code",
   "execution_count": 1,
   "id": "4c43d5db",
   "metadata": {},
   "outputs": [],
   "source": [
    "# pandas — программная библиотека на языке Python для обработки и анализа данных.\n",
    "# подключаем для работы с данными и их обработки \n",
    "import pandas as pd\n",
    "\n",
    "# seaborn — это библиотека для создания статистических графиков на Python\n",
    "# она основывается на matplotlib и тесно взаимодействует со структурами данных pandas\n",
    "# подключаем для перевода наших данных в графическое представление\n",
    "import seaborn as sns \n",
    "\n",
    "sns.set() # установливаем стили для графиков - seaborn\n",
    "\n",
    "import matplotlib.pyplot as plt\n",
    "import numpy as np\n",
    "#это модуль Python, который предоставляет классы и функции для оценки различных статистических моделей,\n",
    "#выполнения статистических тестов и изучения статистических данных\n",
    "import statsmodels.api as sm\n",
    "\n",
    "#sklearn - библиотека программного обеспечения для машинного обучения\n",
    "from sklearn.linear_model import LogisticRegression, LinearRegression\n",
    "from sklearn.model_selection import train_test_split, cross_val_score\n",
    "from sklearn.metrics import accuracy_score\n",
    "\n",
    "\n",
    "import warnings # инструмент контроля предупреждений\n",
    "warnings.simplefilter('ignore') # отключаем несерьезные предупреждения\n",
    "\n",
    "%matplotlib inline"
   ]
  },
  {
   "cell_type": "markdown",
   "id": "a97cea91",
   "metadata": {},
   "source": [
    "### Загружаем данные из файла"
   ]
  },
  {
   "cell_type": "code",
   "execution_count": 2,
   "id": "4d055058",
   "metadata": {
    "scrolled": false
   },
   "outputs": [
    {
     "data": {
      "text/html": [
       "<div>\n",
       "<style scoped>\n",
       "    .dataframe tbody tr th:only-of-type {\n",
       "        vertical-align: middle;\n",
       "    }\n",
       "\n",
       "    .dataframe tbody tr th {\n",
       "        vertical-align: top;\n",
       "    }\n",
       "\n",
       "    .dataframe thead th {\n",
       "        text-align: right;\n",
       "    }\n",
       "</style>\n",
       "<table border=\"1\" class=\"dataframe\">\n",
       "  <thead>\n",
       "    <tr style=\"text-align: right;\">\n",
       "      <th></th>\n",
       "      <th>school</th>\n",
       "      <th>school_setting</th>\n",
       "      <th>school_type</th>\n",
       "      <th>classroom</th>\n",
       "      <th>teaching_method</th>\n",
       "      <th>n_student</th>\n",
       "      <th>student_id</th>\n",
       "      <th>gender</th>\n",
       "      <th>lunch</th>\n",
       "      <th>pretest</th>\n",
       "      <th>posttest</th>\n",
       "    </tr>\n",
       "  </thead>\n",
       "  <tbody>\n",
       "    <tr>\n",
       "      <th>0</th>\n",
       "      <td>ANKYI</td>\n",
       "      <td>Urban</td>\n",
       "      <td>Non-public</td>\n",
       "      <td>6OL</td>\n",
       "      <td>Standard</td>\n",
       "      <td>20.0</td>\n",
       "      <td>2FHT3</td>\n",
       "      <td>Female</td>\n",
       "      <td>Does not qualify</td>\n",
       "      <td>62.0</td>\n",
       "      <td>72.0</td>\n",
       "    </tr>\n",
       "    <tr>\n",
       "      <th>1</th>\n",
       "      <td>ANKYI</td>\n",
       "      <td>Urban</td>\n",
       "      <td>Non-public</td>\n",
       "      <td>6OL</td>\n",
       "      <td>Standard</td>\n",
       "      <td>20.0</td>\n",
       "      <td>3JIVH</td>\n",
       "      <td>Female</td>\n",
       "      <td>Does not qualify</td>\n",
       "      <td>66.0</td>\n",
       "      <td>79.0</td>\n",
       "    </tr>\n",
       "    <tr>\n",
       "      <th>2</th>\n",
       "      <td>ANKYI</td>\n",
       "      <td>Urban</td>\n",
       "      <td>Non-public</td>\n",
       "      <td>6OL</td>\n",
       "      <td>Standard</td>\n",
       "      <td>20.0</td>\n",
       "      <td>3XOWE</td>\n",
       "      <td>Male</td>\n",
       "      <td>Does not qualify</td>\n",
       "      <td>64.0</td>\n",
       "      <td>76.0</td>\n",
       "    </tr>\n",
       "    <tr>\n",
       "      <th>3</th>\n",
       "      <td>ANKYI</td>\n",
       "      <td>Urban</td>\n",
       "      <td>Non-public</td>\n",
       "      <td>6OL</td>\n",
       "      <td>Standard</td>\n",
       "      <td>20.0</td>\n",
       "      <td>556O0</td>\n",
       "      <td>Female</td>\n",
       "      <td>Does not qualify</td>\n",
       "      <td>61.0</td>\n",
       "      <td>77.0</td>\n",
       "    </tr>\n",
       "    <tr>\n",
       "      <th>4</th>\n",
       "      <td>ANKYI</td>\n",
       "      <td>Urban</td>\n",
       "      <td>Non-public</td>\n",
       "      <td>6OL</td>\n",
       "      <td>Standard</td>\n",
       "      <td>20.0</td>\n",
       "      <td>74LOE</td>\n",
       "      <td>Male</td>\n",
       "      <td>Does not qualify</td>\n",
       "      <td>64.0</td>\n",
       "      <td>76.0</td>\n",
       "    </tr>\n",
       "    <tr>\n",
       "      <th>...</th>\n",
       "      <td>...</td>\n",
       "      <td>...</td>\n",
       "      <td>...</td>\n",
       "      <td>...</td>\n",
       "      <td>...</td>\n",
       "      <td>...</td>\n",
       "      <td>...</td>\n",
       "      <td>...</td>\n",
       "      <td>...</td>\n",
       "      <td>...</td>\n",
       "      <td>...</td>\n",
       "    </tr>\n",
       "    <tr>\n",
       "      <th>95</th>\n",
       "      <td>CCAAW</td>\n",
       "      <td>Suburban</td>\n",
       "      <td>Non-public</td>\n",
       "      <td>PGK</td>\n",
       "      <td>Standard</td>\n",
       "      <td>21.0</td>\n",
       "      <td>18YOG</td>\n",
       "      <td>Male</td>\n",
       "      <td>Qualifies for reduced/free lunch</td>\n",
       "      <td>74.0</td>\n",
       "      <td>82.0</td>\n",
       "    </tr>\n",
       "    <tr>\n",
       "      <th>96</th>\n",
       "      <td>CCAAW</td>\n",
       "      <td>Suburban</td>\n",
       "      <td>Non-public</td>\n",
       "      <td>PGK</td>\n",
       "      <td>Standard</td>\n",
       "      <td>21.0</td>\n",
       "      <td>4YN68</td>\n",
       "      <td>Female</td>\n",
       "      <td>Qualifies for reduced/free lunch</td>\n",
       "      <td>63.0</td>\n",
       "      <td>73.0</td>\n",
       "    </tr>\n",
       "    <tr>\n",
       "      <th>97</th>\n",
       "      <td>CCAAW</td>\n",
       "      <td>Suburban</td>\n",
       "      <td>Non-public</td>\n",
       "      <td>PGK</td>\n",
       "      <td>Standard</td>\n",
       "      <td>21.0</td>\n",
       "      <td>905ZT</td>\n",
       "      <td>Female</td>\n",
       "      <td>Qualifies for reduced/free lunch</td>\n",
       "      <td>73.0</td>\n",
       "      <td>78.0</td>\n",
       "    </tr>\n",
       "    <tr>\n",
       "      <th>98</th>\n",
       "      <td>CCAAW</td>\n",
       "      <td>Suburban</td>\n",
       "      <td>Non-public</td>\n",
       "      <td>PGK</td>\n",
       "      <td>Standard</td>\n",
       "      <td>21.0</td>\n",
       "      <td>9WYVP</td>\n",
       "      <td>Male</td>\n",
       "      <td>Does not qualify</td>\n",
       "      <td>75.0</td>\n",
       "      <td>83.0</td>\n",
       "    </tr>\n",
       "    <tr>\n",
       "      <th>99</th>\n",
       "      <td>CCAAW</td>\n",
       "      <td>Suburban</td>\n",
       "      <td>Non-public</td>\n",
       "      <td>PGK</td>\n",
       "      <td>Standard</td>\n",
       "      <td>21.0</td>\n",
       "      <td>A1554</td>\n",
       "      <td>Female</td>\n",
       "      <td>Does not qualify</td>\n",
       "      <td>78.0</td>\n",
       "      <td>84.0</td>\n",
       "    </tr>\n",
       "  </tbody>\n",
       "</table>\n",
       "<p>100 rows × 11 columns</p>\n",
       "</div>"
      ],
      "text/plain": [
       "   school school_setting school_type classroom teaching_method  n_student  \\\n",
       "0   ANKYI          Urban  Non-public       6OL        Standard       20.0   \n",
       "1   ANKYI          Urban  Non-public       6OL        Standard       20.0   \n",
       "2   ANKYI          Urban  Non-public       6OL        Standard       20.0   \n",
       "3   ANKYI          Urban  Non-public       6OL        Standard       20.0   \n",
       "4   ANKYI          Urban  Non-public       6OL        Standard       20.0   \n",
       "..    ...            ...         ...       ...             ...        ...   \n",
       "95  CCAAW       Suburban  Non-public       PGK        Standard       21.0   \n",
       "96  CCAAW       Suburban  Non-public       PGK        Standard       21.0   \n",
       "97  CCAAW       Suburban  Non-public       PGK        Standard       21.0   \n",
       "98  CCAAW       Suburban  Non-public       PGK        Standard       21.0   \n",
       "99  CCAAW       Suburban  Non-public       PGK        Standard       21.0   \n",
       "\n",
       "   student_id  gender                             lunch  pretest  posttest  \n",
       "0       2FHT3  Female                  Does not qualify     62.0      72.0  \n",
       "1       3JIVH  Female                  Does not qualify     66.0      79.0  \n",
       "2       3XOWE    Male                  Does not qualify     64.0      76.0  \n",
       "3       556O0  Female                  Does not qualify     61.0      77.0  \n",
       "4       74LOE    Male                  Does not qualify     64.0      76.0  \n",
       "..        ...     ...                               ...      ...       ...  \n",
       "95      18YOG    Male  Qualifies for reduced/free lunch     74.0      82.0  \n",
       "96      4YN68  Female  Qualifies for reduced/free lunch     63.0      73.0  \n",
       "97      905ZT  Female  Qualifies for reduced/free lunch     73.0      78.0  \n",
       "98      9WYVP    Male                  Does not qualify     75.0      83.0  \n",
       "99      A1554  Female                  Does not qualify     78.0      84.0  \n",
       "\n",
       "[100 rows x 11 columns]"
      ]
     },
     "execution_count": 2,
     "metadata": {},
     "output_type": "execute_result"
    }
   ],
   "source": [
    "raw_data = pd.read_csv('TestScores.csv')\n",
    "raw_data.head(100)"
   ]
  },
  {
   "cell_type": "markdown",
   "id": "02cba6f8",
   "metadata": {},
   "source": [
    "# Предварительная обработка данных"
   ]
  },
  {
   "cell_type": "markdown",
   "id": "eac224d0",
   "metadata": {},
   "source": [
    "school — название школы, в которой учится учащийся\n",
    "\n",
    "school_setting — Расположение школы \n",
    "\n",
    "school_type — Тип школы, государственная или частная\n",
    "\n",
    "classroom — тип классной комнаты\n",
    "\n",
    "teaching_method — Методы обучения: либо экспериментальные, либо стандартные\n",
    "\n",
    "n_student — количество учеников в классе\n",
    "\n",
    "student_id — уникальный идентификатор каждого студента\n",
    "\n",
    "gender — Пол студента: мужской или женский\n",
    "\n",
    "lunch — имеет ли студент право на бесплатный / субсидированный обед или нет\n",
    "\n",
    "pretest — оценка за предварительный тест из 100\n",
    "\n",
    "posttest — оценка за итоговый тест из 100, целевая переменная"
   ]
  },
  {
   "cell_type": "markdown",
   "id": "6d78dfe1",
   "metadata": {},
   "source": [
    "В искомом наборе данных можно утверждать что student_id никак не повлияет на искомые данные, также можно предположить о том что school_setting, school_type и lunch не вляют на успеваемость учеников на прямую, но можно предположить что lunch, говорит о том, что студент попадает в тот процент людей, у которых есть льготы, обычно это люди с низким достатком или с какими-то иными жизненными проблемами, которые вынуждают государство/заведение помогамть таким людям льготными обедами, что также дает предположение о том, что студенты с льготами могут иметь потенциально ниже оценки, т.к. имеют специфические обстоятельства в своей жизни. Также school_setting может говорить о том находится ли школа в \"благополучном\" районе или нет, что также может влять на исследуемые показатели успеваемости. school_type - говорит о типе школы, государственная или частная, как правило частные школы делают сильный упор на подборе персонала и состовлении процесса обучения, иногда имеют больше возможностей относительно состовления учебного плана, также частные школы, как правило, платные и стоят не малых денег, что косвенно намекает на то, что в них ходят дети из благополучных семей, которые чаще нацелены на получение от учебных заведений максимума => частные школы имеют средную оценку выше, относительно, государственных.\n",
    "\n"
   ]
  },
  {
   "cell_type": "markdown",
   "id": "18d3cbbd",
   "metadata": {},
   "source": [
    "### Выведем на экран статистическую сводку."
   ]
  },
  {
   "cell_type": "code",
   "execution_count": 3,
   "id": "b3bdf10a",
   "metadata": {
    "scrolled": false
   },
   "outputs": [
    {
     "data": {
      "text/html": [
       "<div>\n",
       "<style scoped>\n",
       "    .dataframe tbody tr th:only-of-type {\n",
       "        vertical-align: middle;\n",
       "    }\n",
       "\n",
       "    .dataframe tbody tr th {\n",
       "        vertical-align: top;\n",
       "    }\n",
       "\n",
       "    .dataframe thead th {\n",
       "        text-align: right;\n",
       "    }\n",
       "</style>\n",
       "<table border=\"1\" class=\"dataframe\">\n",
       "  <thead>\n",
       "    <tr style=\"text-align: right;\">\n",
       "      <th></th>\n",
       "      <th>school</th>\n",
       "      <th>school_setting</th>\n",
       "      <th>school_type</th>\n",
       "      <th>classroom</th>\n",
       "      <th>teaching_method</th>\n",
       "      <th>n_student</th>\n",
       "      <th>student_id</th>\n",
       "      <th>gender</th>\n",
       "      <th>lunch</th>\n",
       "      <th>pretest</th>\n",
       "      <th>posttest</th>\n",
       "    </tr>\n",
       "  </thead>\n",
       "  <tbody>\n",
       "    <tr>\n",
       "      <th>count</th>\n",
       "      <td>2133</td>\n",
       "      <td>2133</td>\n",
       "      <td>2133</td>\n",
       "      <td>2133</td>\n",
       "      <td>2133</td>\n",
       "      <td>2133.000000</td>\n",
       "      <td>2133</td>\n",
       "      <td>2133</td>\n",
       "      <td>2133</td>\n",
       "      <td>2133.000000</td>\n",
       "      <td>2133.000000</td>\n",
       "    </tr>\n",
       "    <tr>\n",
       "      <th>unique</th>\n",
       "      <td>23</td>\n",
       "      <td>3</td>\n",
       "      <td>2</td>\n",
       "      <td>97</td>\n",
       "      <td>2</td>\n",
       "      <td>NaN</td>\n",
       "      <td>2133</td>\n",
       "      <td>2</td>\n",
       "      <td>2</td>\n",
       "      <td>NaN</td>\n",
       "      <td>NaN</td>\n",
       "    </tr>\n",
       "    <tr>\n",
       "      <th>top</th>\n",
       "      <td>GOOBU</td>\n",
       "      <td>Urban</td>\n",
       "      <td>Public</td>\n",
       "      <td>18K</td>\n",
       "      <td>Standard</td>\n",
       "      <td>NaN</td>\n",
       "      <td>2FHT3</td>\n",
       "      <td>Male</td>\n",
       "      <td>Does not qualify</td>\n",
       "      <td>NaN</td>\n",
       "      <td>NaN</td>\n",
       "    </tr>\n",
       "    <tr>\n",
       "      <th>freq</th>\n",
       "      <td>158</td>\n",
       "      <td>906</td>\n",
       "      <td>1582</td>\n",
       "      <td>31</td>\n",
       "      <td>1373</td>\n",
       "      <td>NaN</td>\n",
       "      <td>1</td>\n",
       "      <td>1077</td>\n",
       "      <td>1215</td>\n",
       "      <td>NaN</td>\n",
       "      <td>NaN</td>\n",
       "    </tr>\n",
       "    <tr>\n",
       "      <th>mean</th>\n",
       "      <td>NaN</td>\n",
       "      <td>NaN</td>\n",
       "      <td>NaN</td>\n",
       "      <td>NaN</td>\n",
       "      <td>NaN</td>\n",
       "      <td>22.796531</td>\n",
       "      <td>NaN</td>\n",
       "      <td>NaN</td>\n",
       "      <td>NaN</td>\n",
       "      <td>54.955931</td>\n",
       "      <td>67.102203</td>\n",
       "    </tr>\n",
       "    <tr>\n",
       "      <th>std</th>\n",
       "      <td>NaN</td>\n",
       "      <td>NaN</td>\n",
       "      <td>NaN</td>\n",
       "      <td>NaN</td>\n",
       "      <td>NaN</td>\n",
       "      <td>4.228893</td>\n",
       "      <td>NaN</td>\n",
       "      <td>NaN</td>\n",
       "      <td>NaN</td>\n",
       "      <td>13.563101</td>\n",
       "      <td>13.986789</td>\n",
       "    </tr>\n",
       "    <tr>\n",
       "      <th>min</th>\n",
       "      <td>NaN</td>\n",
       "      <td>NaN</td>\n",
       "      <td>NaN</td>\n",
       "      <td>NaN</td>\n",
       "      <td>NaN</td>\n",
       "      <td>14.000000</td>\n",
       "      <td>NaN</td>\n",
       "      <td>NaN</td>\n",
       "      <td>NaN</td>\n",
       "      <td>22.000000</td>\n",
       "      <td>32.000000</td>\n",
       "    </tr>\n",
       "    <tr>\n",
       "      <th>25%</th>\n",
       "      <td>NaN</td>\n",
       "      <td>NaN</td>\n",
       "      <td>NaN</td>\n",
       "      <td>NaN</td>\n",
       "      <td>NaN</td>\n",
       "      <td>20.000000</td>\n",
       "      <td>NaN</td>\n",
       "      <td>NaN</td>\n",
       "      <td>NaN</td>\n",
       "      <td>44.000000</td>\n",
       "      <td>56.000000</td>\n",
       "    </tr>\n",
       "    <tr>\n",
       "      <th>50%</th>\n",
       "      <td>NaN</td>\n",
       "      <td>NaN</td>\n",
       "      <td>NaN</td>\n",
       "      <td>NaN</td>\n",
       "      <td>NaN</td>\n",
       "      <td>22.000000</td>\n",
       "      <td>NaN</td>\n",
       "      <td>NaN</td>\n",
       "      <td>NaN</td>\n",
       "      <td>56.000000</td>\n",
       "      <td>68.000000</td>\n",
       "    </tr>\n",
       "    <tr>\n",
       "      <th>75%</th>\n",
       "      <td>NaN</td>\n",
       "      <td>NaN</td>\n",
       "      <td>NaN</td>\n",
       "      <td>NaN</td>\n",
       "      <td>NaN</td>\n",
       "      <td>27.000000</td>\n",
       "      <td>NaN</td>\n",
       "      <td>NaN</td>\n",
       "      <td>NaN</td>\n",
       "      <td>65.000000</td>\n",
       "      <td>77.000000</td>\n",
       "    </tr>\n",
       "    <tr>\n",
       "      <th>max</th>\n",
       "      <td>NaN</td>\n",
       "      <td>NaN</td>\n",
       "      <td>NaN</td>\n",
       "      <td>NaN</td>\n",
       "      <td>NaN</td>\n",
       "      <td>31.000000</td>\n",
       "      <td>NaN</td>\n",
       "      <td>NaN</td>\n",
       "      <td>NaN</td>\n",
       "      <td>93.000000</td>\n",
       "      <td>100.000000</td>\n",
       "    </tr>\n",
       "  </tbody>\n",
       "</table>\n",
       "</div>"
      ],
      "text/plain": [
       "       school school_setting school_type classroom teaching_method  \\\n",
       "count    2133           2133        2133      2133            2133   \n",
       "unique     23              3           2        97               2   \n",
       "top     GOOBU          Urban      Public       18K        Standard   \n",
       "freq      158            906        1582        31            1373   \n",
       "mean      NaN            NaN         NaN       NaN             NaN   \n",
       "std       NaN            NaN         NaN       NaN             NaN   \n",
       "min       NaN            NaN         NaN       NaN             NaN   \n",
       "25%       NaN            NaN         NaN       NaN             NaN   \n",
       "50%       NaN            NaN         NaN       NaN             NaN   \n",
       "75%       NaN            NaN         NaN       NaN             NaN   \n",
       "max       NaN            NaN         NaN       NaN             NaN   \n",
       "\n",
       "          n_student student_id gender             lunch      pretest  \\\n",
       "count   2133.000000       2133   2133              2133  2133.000000   \n",
       "unique          NaN       2133      2                 2          NaN   \n",
       "top             NaN      2FHT3   Male  Does not qualify          NaN   \n",
       "freq            NaN          1   1077              1215          NaN   \n",
       "mean      22.796531        NaN    NaN               NaN    54.955931   \n",
       "std        4.228893        NaN    NaN               NaN    13.563101   \n",
       "min       14.000000        NaN    NaN               NaN    22.000000   \n",
       "25%       20.000000        NaN    NaN               NaN    44.000000   \n",
       "50%       22.000000        NaN    NaN               NaN    56.000000   \n",
       "75%       27.000000        NaN    NaN               NaN    65.000000   \n",
       "max       31.000000        NaN    NaN               NaN    93.000000   \n",
       "\n",
       "           posttest  \n",
       "count   2133.000000  \n",
       "unique          NaN  \n",
       "top             NaN  \n",
       "freq            NaN  \n",
       "mean      67.102203  \n",
       "std       13.986789  \n",
       "min       32.000000  \n",
       "25%       56.000000  \n",
       "50%       68.000000  \n",
       "75%       77.000000  \n",
       "max      100.000000  "
      ]
     },
     "execution_count": 3,
     "metadata": {},
     "output_type": "execute_result"
    }
   ],
   "source": [
    "raw_data.describe(include='all')"
   ]
  },
  {
   "cell_type": "markdown",
   "id": "1976ea63",
   "metadata": {},
   "source": [
    "По данной сводкеdescribe можно сделать вывод, что слишком большое количество уникальных значений сожержат столбцы:classroom и student_id. Также видим, что уникальных значений поля classroom - 97, что может говорить о том, что данный параметр является своеобразным \"id\" для класса, в следствии чего его можно удалять. \n",
    "\n",
    "Таким образом следует удалить только student_id и classroom.\n",
    "Стоит заметить, что значение freq равное 31 соответсвует максимальному количеству студентов из столбца n_student (max = 31). На основе этого можно предположить, что это номер класса или классной комнаты."
   ]
  },
  {
   "cell_type": "markdown",
   "id": "68d68897",
   "metadata": {},
   "source": [
    "#### Выполним построение матрицы коррелирующих значений."
   ]
  },
  {
   "cell_type": "markdown",
   "id": "608f7a96",
   "metadata": {},
   "source": [
    "Значение коэффициента может быть в диапазоне от -1 до 1. Значение, близкое к 1, означает положительную корреляцию между двумя переменными (то есть, когда одна переменная увеличивается, другая тоже увеличивается), значение, близкое к -1, означает отрицательную корреляцию (то есть, когда одна переменная увеличивается, другая уменьшается), а значение, близкое к 0, означает отсутствие корреляции."
   ]
  },
  {
   "cell_type": "code",
   "execution_count": 4,
   "id": "96fe89df",
   "metadata": {
    "scrolled": true
   },
   "outputs": [
    {
     "data": {
      "text/html": [
       "<div>\n",
       "<style scoped>\n",
       "    .dataframe tbody tr th:only-of-type {\n",
       "        vertical-align: middle;\n",
       "    }\n",
       "\n",
       "    .dataframe tbody tr th {\n",
       "        vertical-align: top;\n",
       "    }\n",
       "\n",
       "    .dataframe thead th {\n",
       "        text-align: right;\n",
       "    }\n",
       "</style>\n",
       "<table border=\"1\" class=\"dataframe\">\n",
       "  <thead>\n",
       "    <tr style=\"text-align: right;\">\n",
       "      <th></th>\n",
       "      <th>n_student</th>\n",
       "      <th>pretest</th>\n",
       "      <th>posttest</th>\n",
       "    </tr>\n",
       "  </thead>\n",
       "  <tbody>\n",
       "    <tr>\n",
       "      <th>n_student</th>\n",
       "      <td>1.000000</td>\n",
       "      <td>-0.499253</td>\n",
       "      <td>-0.504886</td>\n",
       "    </tr>\n",
       "    <tr>\n",
       "      <th>pretest</th>\n",
       "      <td>-0.499253</td>\n",
       "      <td>1.000000</td>\n",
       "      <td>0.950884</td>\n",
       "    </tr>\n",
       "    <tr>\n",
       "      <th>posttest</th>\n",
       "      <td>-0.504886</td>\n",
       "      <td>0.950884</td>\n",
       "      <td>1.000000</td>\n",
       "    </tr>\n",
       "  </tbody>\n",
       "</table>\n",
       "</div>"
      ],
      "text/plain": [
       "           n_student   pretest  posttest\n",
       "n_student   1.000000 -0.499253 -0.504886\n",
       "pretest    -0.499253  1.000000  0.950884\n",
       "posttest   -0.504886  0.950884  1.000000"
      ]
     },
     "execution_count": 4,
     "metadata": {},
     "output_type": "execute_result"
    }
   ],
   "source": [
    "corr_matrix = raw_data.corr()\n",
    "corr_matrix"
   ]
  },
  {
   "cell_type": "code",
   "execution_count": 5,
   "id": "99c12f8b",
   "metadata": {},
   "outputs": [],
   "source": [
    "#corr = raw_data.corr().loc['pretest', 'posttest']\n",
    "#corr"
   ]
  },
  {
   "cell_type": "code",
   "execution_count": 6,
   "id": "7e75a39f",
   "metadata": {},
   "outputs": [
    {
     "data": {
      "text/plain": [
       "PearsonRResult(statistic=0.9508842857175768, pvalue=0.0)"
      ]
     },
     "execution_count": 6,
     "metadata": {},
     "output_type": "execute_result"
    }
   ],
   "source": [
    "from scipy.stats.stats import pearsonr\n",
    "pearsonr(raw_data['posttest'], raw_data['pretest'])"
   ]
  },
  {
   "cell_type": "code",
   "execution_count": 7,
   "id": "53812cc2",
   "metadata": {},
   "outputs": [],
   "source": [
    "#np.corrcoef(raw_data['posttest'], raw_data['pretest'])"
   ]
  },
  {
   "cell_type": "markdown",
   "id": "733918e9",
   "metadata": {},
   "source": [
    "В данном случае результат функции pearsonr показывает, что между 'posttest' и 'pretest' есть высокая положительная корреляция (значение коэффициента корреляции Пирсона близко к 1), и p-значение равно 0.0, что говорит о том, что корреляция является статистически значимой."
   ]
  },
  {
   "cell_type": "code",
   "execution_count": 8,
   "id": "99effc29",
   "metadata": {},
   "outputs": [
    {
     "data": {
      "text/plain": [
       "PearsonRResult(statistic=-0.5048864411228164, pvalue=2.3551556423615266e-138)"
      ]
     },
     "execution_count": 8,
     "metadata": {},
     "output_type": "execute_result"
    }
   ],
   "source": [
    "pearsonr(raw_data['n_student'], raw_data['posttest'])"
   ]
  },
  {
   "cell_type": "markdown",
   "id": "037cce37",
   "metadata": {},
   "source": [
    "В данном случае, результат вычислений pearsonr состоит из двух чисел. Первое число - это значение коэффициента корреляции Пирсона между переменными n_student и posttest. Значение -0.50 указывает на отрицательную корреляцию между количеством студентов в классе и оценкой за экзамен. Это означает, что чем больше количество студентов, тем меньше оценка за экзамен.\n",
    "\n",
    "Второе число - это p-значение (p-value) теста на значимость корреляции. Оно используется для определения статистической значимости коэффициента корреляции. Значение p-value очень маленькое (2.36e-138), что указывает на то, что нулевая гипотеза о том, что коэффициент корреляции равен нулю, может быть отвергнута с очень высокой уверенностью. То есть, отрицательная корреляция между количеством студентов и оценкой за экзамен является статистически значимой."
   ]
  },
  {
   "cell_type": "markdown",
   "id": "581d7ae5",
   "metadata": {},
   "source": [
    "Для более корректного корреляционного анализа воспользуемся heatmap, для этого необходимо избавится от переменных не числового типа, для этого выполним следующее преобразрвание:\n",
    "\n",
    "school_setting - -1(Rural), 0(Suburban), 1(Urban);\n",
    "\n",
    "school_type - 0(Public), 1(Non-public);\n",
    "\n",
    "teaching_method - 0(Standard), 1(Experimental);\n",
    "\n",
    "gender - 0(Male), 1(Female);\n",
    "\n",
    "lunch - 0(Qualifies for reduced/free lunch), 1(Does not qualify);\n",
    "\n",
    "также удалим столбец с названием школы, id класса и id студента."
   ]
  },
  {
   "cell_type": "code",
   "execution_count": 9,
   "id": "ae83b41b",
   "metadata": {},
   "outputs": [
    {
     "data": {
      "text/html": [
       "<div>\n",
       "<style scoped>\n",
       "    .dataframe tbody tr th:only-of-type {\n",
       "        vertical-align: middle;\n",
       "    }\n",
       "\n",
       "    .dataframe tbody tr th {\n",
       "        vertical-align: top;\n",
       "    }\n",
       "\n",
       "    .dataframe thead th {\n",
       "        text-align: right;\n",
       "    }\n",
       "</style>\n",
       "<table border=\"1\" class=\"dataframe\">\n",
       "  <thead>\n",
       "    <tr style=\"text-align: right;\">\n",
       "      <th></th>\n",
       "      <th>school_setting</th>\n",
       "      <th>school_type</th>\n",
       "      <th>teaching_method</th>\n",
       "      <th>n_student</th>\n",
       "      <th>gender</th>\n",
       "      <th>lunch</th>\n",
       "      <th>pretest</th>\n",
       "      <th>posttest</th>\n",
       "    </tr>\n",
       "  </thead>\n",
       "  <tbody>\n",
       "    <tr>\n",
       "      <th>0</th>\n",
       "      <td>1</td>\n",
       "      <td>1</td>\n",
       "      <td>0</td>\n",
       "      <td>20.0</td>\n",
       "      <td>1</td>\n",
       "      <td>1</td>\n",
       "      <td>62.0</td>\n",
       "      <td>72.0</td>\n",
       "    </tr>\n",
       "    <tr>\n",
       "      <th>1</th>\n",
       "      <td>1</td>\n",
       "      <td>1</td>\n",
       "      <td>0</td>\n",
       "      <td>20.0</td>\n",
       "      <td>1</td>\n",
       "      <td>1</td>\n",
       "      <td>66.0</td>\n",
       "      <td>79.0</td>\n",
       "    </tr>\n",
       "    <tr>\n",
       "      <th>2</th>\n",
       "      <td>1</td>\n",
       "      <td>1</td>\n",
       "      <td>0</td>\n",
       "      <td>20.0</td>\n",
       "      <td>0</td>\n",
       "      <td>1</td>\n",
       "      <td>64.0</td>\n",
       "      <td>76.0</td>\n",
       "    </tr>\n",
       "    <tr>\n",
       "      <th>3</th>\n",
       "      <td>1</td>\n",
       "      <td>1</td>\n",
       "      <td>0</td>\n",
       "      <td>20.0</td>\n",
       "      <td>1</td>\n",
       "      <td>1</td>\n",
       "      <td>61.0</td>\n",
       "      <td>77.0</td>\n",
       "    </tr>\n",
       "    <tr>\n",
       "      <th>4</th>\n",
       "      <td>1</td>\n",
       "      <td>1</td>\n",
       "      <td>0</td>\n",
       "      <td>20.0</td>\n",
       "      <td>0</td>\n",
       "      <td>1</td>\n",
       "      <td>64.0</td>\n",
       "      <td>76.0</td>\n",
       "    </tr>\n",
       "    <tr>\n",
       "      <th>...</th>\n",
       "      <td>...</td>\n",
       "      <td>...</td>\n",
       "      <td>...</td>\n",
       "      <td>...</td>\n",
       "      <td>...</td>\n",
       "      <td>...</td>\n",
       "      <td>...</td>\n",
       "      <td>...</td>\n",
       "    </tr>\n",
       "    <tr>\n",
       "      <th>2128</th>\n",
       "      <td>1</td>\n",
       "      <td>0</td>\n",
       "      <td>0</td>\n",
       "      <td>30.0</td>\n",
       "      <td>1</td>\n",
       "      <td>1</td>\n",
       "      <td>39.0</td>\n",
       "      <td>55.0</td>\n",
       "    </tr>\n",
       "    <tr>\n",
       "      <th>2129</th>\n",
       "      <td>1</td>\n",
       "      <td>0</td>\n",
       "      <td>0</td>\n",
       "      <td>30.0</td>\n",
       "      <td>1</td>\n",
       "      <td>0</td>\n",
       "      <td>38.0</td>\n",
       "      <td>46.0</td>\n",
       "    </tr>\n",
       "    <tr>\n",
       "      <th>2130</th>\n",
       "      <td>1</td>\n",
       "      <td>0</td>\n",
       "      <td>0</td>\n",
       "      <td>30.0</td>\n",
       "      <td>1</td>\n",
       "      <td>0</td>\n",
       "      <td>45.0</td>\n",
       "      <td>51.0</td>\n",
       "    </tr>\n",
       "    <tr>\n",
       "      <th>2131</th>\n",
       "      <td>1</td>\n",
       "      <td>0</td>\n",
       "      <td>0</td>\n",
       "      <td>30.0</td>\n",
       "      <td>0</td>\n",
       "      <td>0</td>\n",
       "      <td>46.0</td>\n",
       "      <td>53.0</td>\n",
       "    </tr>\n",
       "    <tr>\n",
       "      <th>2132</th>\n",
       "      <td>1</td>\n",
       "      <td>0</td>\n",
       "      <td>0</td>\n",
       "      <td>30.0</td>\n",
       "      <td>0</td>\n",
       "      <td>0</td>\n",
       "      <td>41.0</td>\n",
       "      <td>48.0</td>\n",
       "    </tr>\n",
       "  </tbody>\n",
       "</table>\n",
       "<p>2133 rows × 8 columns</p>\n",
       "</div>"
      ],
      "text/plain": [
       "     school_setting school_type teaching_method  n_student gender lunch  \\\n",
       "0                 1           1               0       20.0      1     1   \n",
       "1                 1           1               0       20.0      1     1   \n",
       "2                 1           1               0       20.0      0     1   \n",
       "3                 1           1               0       20.0      1     1   \n",
       "4                 1           1               0       20.0      0     1   \n",
       "...             ...         ...             ...        ...    ...   ...   \n",
       "2128              1           0               0       30.0      1     1   \n",
       "2129              1           0               0       30.0      1     0   \n",
       "2130              1           0               0       30.0      1     0   \n",
       "2131              1           0               0       30.0      0     0   \n",
       "2132              1           0               0       30.0      0     0   \n",
       "\n",
       "      pretest  posttest  \n",
       "0        62.0      72.0  \n",
       "1        66.0      79.0  \n",
       "2        64.0      76.0  \n",
       "3        61.0      77.0  \n",
       "4        64.0      76.0  \n",
       "...       ...       ...  \n",
       "2128     39.0      55.0  \n",
       "2129     38.0      46.0  \n",
       "2130     45.0      51.0  \n",
       "2131     46.0      53.0  \n",
       "2132     41.0      48.0  \n",
       "\n",
       "[2133 rows x 8 columns]"
      ]
     },
     "execution_count": 9,
     "metadata": {},
     "output_type": "execute_result"
    }
   ],
   "source": [
    "data = raw_data.copy()\n",
    "data['school_setting'] = data['school_setting'].replace({'Urban': '1', 'Suburban': '0', 'Rural': '-1'})\n",
    "data['school_type'] = data['school_type'].replace({'Public': '0', 'Non-public': '1'})\n",
    "data['teaching_method'] = data['teaching_method'].replace({'Standard': '0', 'Experimental': '1'})\n",
    "data['gender'] = data['gender'].replace({'Female': '1', 'Male': '0'})\n",
    "data['lunch'] = data['lunch'].replace({'Does not qualify': '1', 'Qualifies for reduced/free lunch': '0'})\n",
    "data = data.drop(columns=['student_id', 'classroom', 'school'],axis=1)\n",
    "data"
   ]
  },
  {
   "cell_type": "markdown",
   "id": "866a0f85",
   "metadata": {},
   "source": [
    "Проверим датасет, после удаления не нужных строк, на пропуски в оставшихся данных"
   ]
  },
  {
   "cell_type": "code",
   "execution_count": 10,
   "id": "2be93117",
   "metadata": {},
   "outputs": [
    {
     "data": {
      "text/plain": [
       "school_setting     0\n",
       "school_type        0\n",
       "teaching_method    0\n",
       "n_student          0\n",
       "gender             0\n",
       "lunch              0\n",
       "pretest            0\n",
       "posttest           0\n",
       "dtype: int64"
      ]
     },
     "execution_count": 10,
     "metadata": {},
     "output_type": "execute_result"
    }
   ],
   "source": [
    "data.isnull().sum() "
   ]
  },
  {
   "cell_type": "markdown",
   "id": "da3f2228",
   "metadata": {},
   "source": [
    "Видно, что пустых значений в данных нет.\n",
    "Теперь проверим типы значений в имеющихся данных."
   ]
  },
  {
   "cell_type": "code",
   "execution_count": 11,
   "id": "88183409",
   "metadata": {
    "scrolled": true
   },
   "outputs": [
    {
     "data": {
      "text/plain": [
       "school_setting      object\n",
       "school_type         object\n",
       "teaching_method     object\n",
       "n_student          float64\n",
       "gender              object\n",
       "lunch               object\n",
       "pretest            float64\n",
       "posttest           float64\n",
       "dtype: object"
      ]
     },
     "execution_count": 11,
     "metadata": {},
     "output_type": "execute_result"
    }
   ],
   "source": [
    "data.dtypes"
   ]
  },
  {
   "cell_type": "markdown",
   "id": "7c8e47cf",
   "metadata": {},
   "source": [
    "Т.к. некоторые данные по прежнему определяются как \"object\" преобразуем их в \"int\""
   ]
  },
  {
   "cell_type": "code",
   "execution_count": 12,
   "id": "f4adad1a",
   "metadata": {},
   "outputs": [],
   "source": [
    "data['school_setting'] = (data['school_setting'].astype(int)) #преобразуем в int\n",
    "data['school_type'] = (data['school_type'].astype(int)) #преобразуем в int\n",
    "data['teaching_method'] = (data['teaching_method'].astype(int)) #преобразуем в int\n",
    "data['gender'] = (data['gender'].astype(int)) #преобразуем в int\n",
    "data['lunch'] = (data['lunch'].astype(int)) #преобразуем в int\n",
    "data['pretest'] = (data['pretest'].astype(int)) #преобразуем в int\n",
    "data['posttest'] = (data['posttest'].astype(int)) #преобразуем в int\n",
    "data['n_student'] = (data['n_student'].astype(int)) #преобразуем в int"
   ]
  },
  {
   "cell_type": "code",
   "execution_count": 13,
   "id": "531c010e",
   "metadata": {},
   "outputs": [
    {
     "data": {
      "text/plain": [
       "school_setting     int32\n",
       "school_type        int32\n",
       "teaching_method    int32\n",
       "n_student          int32\n",
       "gender             int32\n",
       "lunch              int32\n",
       "pretest            int32\n",
       "posttest           int32\n",
       "dtype: object"
      ]
     },
     "execution_count": 13,
     "metadata": {},
     "output_type": "execute_result"
    }
   ],
   "source": [
    "data.dtypes"
   ]
  },
  {
   "cell_type": "markdown",
   "id": "46bb7f6d",
   "metadata": {},
   "source": [
    "В результате получили набор данных с корректными типами данных, выполним корреляционный анализ с помощью метода 'corr' и с помощью 'heatmap' представим графическую интерпретацию полученных данных."
   ]
  },
  {
   "cell_type": "code",
   "execution_count": 14,
   "id": "dc24e6f1",
   "metadata": {
    "scrolled": true
   },
   "outputs": [
    {
     "data": {
      "text/html": [
       "<div>\n",
       "<style scoped>\n",
       "    .dataframe tbody tr th:only-of-type {\n",
       "        vertical-align: middle;\n",
       "    }\n",
       "\n",
       "    .dataframe tbody tr th {\n",
       "        vertical-align: top;\n",
       "    }\n",
       "\n",
       "    .dataframe thead th {\n",
       "        text-align: right;\n",
       "    }\n",
       "</style>\n",
       "<table border=\"1\" class=\"dataframe\">\n",
       "  <thead>\n",
       "    <tr style=\"text-align: right;\">\n",
       "      <th></th>\n",
       "      <th>school_setting</th>\n",
       "      <th>school_type</th>\n",
       "      <th>teaching_method</th>\n",
       "      <th>n_student</th>\n",
       "      <th>gender</th>\n",
       "      <th>lunch</th>\n",
       "      <th>pretest</th>\n",
       "      <th>posttest</th>\n",
       "    </tr>\n",
       "  </thead>\n",
       "  <tbody>\n",
       "    <tr>\n",
       "      <th>school_setting</th>\n",
       "      <td>1.000000</td>\n",
       "      <td>0.083307</td>\n",
       "      <td>-0.082795</td>\n",
       "      <td>0.508018</td>\n",
       "      <td>0.036581</td>\n",
       "      <td>-0.025744</td>\n",
       "      <td>-0.123575</td>\n",
       "      <td>-0.139226</td>\n",
       "    </tr>\n",
       "    <tr>\n",
       "      <th>school_type</th>\n",
       "      <td>0.083307</td>\n",
       "      <td>1.000000</td>\n",
       "      <td>0.153593</td>\n",
       "      <td>-0.548190</td>\n",
       "      <td>0.017593</td>\n",
       "      <td>0.171196</td>\n",
       "      <td>0.361158</td>\n",
       "      <td>0.373916</td>\n",
       "    </tr>\n",
       "    <tr>\n",
       "      <th>teaching_method</th>\n",
       "      <td>-0.082795</td>\n",
       "      <td>0.153593</td>\n",
       "      <td>1.000000</td>\n",
       "      <td>-0.105900</td>\n",
       "      <td>-0.020087</td>\n",
       "      <td>0.017970</td>\n",
       "      <td>0.115185</td>\n",
       "      <td>0.312884</td>\n",
       "    </tr>\n",
       "    <tr>\n",
       "      <th>n_student</th>\n",
       "      <td>0.508018</td>\n",
       "      <td>-0.548190</td>\n",
       "      <td>-0.105900</td>\n",
       "      <td>1.000000</td>\n",
       "      <td>0.019265</td>\n",
       "      <td>-0.367018</td>\n",
       "      <td>-0.499253</td>\n",
       "      <td>-0.504886</td>\n",
       "    </tr>\n",
       "    <tr>\n",
       "      <th>gender</th>\n",
       "      <td>0.036581</td>\n",
       "      <td>0.017593</td>\n",
       "      <td>-0.020087</td>\n",
       "      <td>0.019265</td>\n",
       "      <td>1.000000</td>\n",
       "      <td>-0.016134</td>\n",
       "      <td>-0.006048</td>\n",
       "      <td>-0.006902</td>\n",
       "    </tr>\n",
       "    <tr>\n",
       "      <th>lunch</th>\n",
       "      <td>-0.025744</td>\n",
       "      <td>0.171196</td>\n",
       "      <td>0.017970</td>\n",
       "      <td>-0.367018</td>\n",
       "      <td>-0.016134</td>\n",
       "      <td>1.000000</td>\n",
       "      <td>0.622420</td>\n",
       "      <td>0.598371</td>\n",
       "    </tr>\n",
       "    <tr>\n",
       "      <th>pretest</th>\n",
       "      <td>-0.123575</td>\n",
       "      <td>0.361158</td>\n",
       "      <td>0.115185</td>\n",
       "      <td>-0.499253</td>\n",
       "      <td>-0.006048</td>\n",
       "      <td>0.622420</td>\n",
       "      <td>1.000000</td>\n",
       "      <td>0.950884</td>\n",
       "    </tr>\n",
       "    <tr>\n",
       "      <th>posttest</th>\n",
       "      <td>-0.139226</td>\n",
       "      <td>0.373916</td>\n",
       "      <td>0.312884</td>\n",
       "      <td>-0.504886</td>\n",
       "      <td>-0.006902</td>\n",
       "      <td>0.598371</td>\n",
       "      <td>0.950884</td>\n",
       "      <td>1.000000</td>\n",
       "    </tr>\n",
       "  </tbody>\n",
       "</table>\n",
       "</div>"
      ],
      "text/plain": [
       "                 school_setting  school_type  teaching_method  n_student  \\\n",
       "school_setting         1.000000     0.083307        -0.082795   0.508018   \n",
       "school_type            0.083307     1.000000         0.153593  -0.548190   \n",
       "teaching_method       -0.082795     0.153593         1.000000  -0.105900   \n",
       "n_student              0.508018    -0.548190        -0.105900   1.000000   \n",
       "gender                 0.036581     0.017593        -0.020087   0.019265   \n",
       "lunch                 -0.025744     0.171196         0.017970  -0.367018   \n",
       "pretest               -0.123575     0.361158         0.115185  -0.499253   \n",
       "posttest              -0.139226     0.373916         0.312884  -0.504886   \n",
       "\n",
       "                   gender     lunch   pretest  posttest  \n",
       "school_setting   0.036581 -0.025744 -0.123575 -0.139226  \n",
       "school_type      0.017593  0.171196  0.361158  0.373916  \n",
       "teaching_method -0.020087  0.017970  0.115185  0.312884  \n",
       "n_student        0.019265 -0.367018 -0.499253 -0.504886  \n",
       "gender           1.000000 -0.016134 -0.006048 -0.006902  \n",
       "lunch           -0.016134  1.000000  0.622420  0.598371  \n",
       "pretest         -0.006048  0.622420  1.000000  0.950884  \n",
       "posttest        -0.006902  0.598371  0.950884  1.000000  "
      ]
     },
     "execution_count": 14,
     "metadata": {},
     "output_type": "execute_result"
    }
   ],
   "source": [
    "corr_matrix = data.corr()\n",
    "corr_matrix"
   ]
  },
  {
   "cell_type": "code",
   "execution_count": 15,
   "id": "56ffaaf1",
   "metadata": {},
   "outputs": [
    {
     "data": {
      "text/plain": [
       "<AxesSubplot:>"
      ]
     },
     "execution_count": 15,
     "metadata": {},
     "output_type": "execute_result"
    },
    {
     "data": {
      "image/png": "[encoded data removed]",
      "text/plain": [
       "<Figure size 1000x1000 with 2 Axes>"
      ]
     },
     "metadata": {},
     "output_type": "display_data"
    }
   ],
   "source": [
    "fig, ax = plt.subplots(figsize=(10, 10))\n",
    "sns.heatmap(corr_matrix, vmin=-1, vmax=1, annot=True, cmap='coolwarm', ax=ax)"
   ]
  },
  {
   "cell_type": "markdown",
   "id": "3ddfbf28",
   "metadata": {},
   "source": [
    "#### Вывод:\n",
    "\n",
    "Можно заметить, что меньше всего на значение post_test влияет характеристика гендера. Также отметим, что на результ экзамена негативнее всего влияет количество студентов в классе, а позитивнее всего влияет результат оценки за предэкзаменационных тест."
   ]
  },
  {
   "cell_type": "markdown",
   "id": "d2d431a8",
   "metadata": {},
   "source": [
    "#### Займемся поиском аномалий и выбросов в наших данных."
   ]
  },
  {
   "cell_type": "markdown",
   "id": "f9caa277",
   "metadata": {},
   "source": [
    "Для визуализации распределения метрических переменных воспользуемся функцией displot."
   ]
  },
  {
   "cell_type": "code",
   "execution_count": 16,
   "id": "9b89c7c0",
   "metadata": {
    "scrolled": false
   },
   "outputs": [
    {
     "data": {
      "text/plain": [
       "<seaborn.axisgrid.FacetGrid at 0x1b2c46a27f0>"
      ]
     },
     "execution_count": 16,
     "metadata": {},
     "output_type": "execute_result"
    },
    {
     "data": {
      "image/png": "[encoded data removed]",
      "text/plain": [
       "<Figure size 1000x500 with 1 Axes>"
      ]
     },
     "metadata": {},
     "output_type": "display_data"
    }
   ],
   "source": [
    "sns.displot(data['n_student'],kde=True,\n",
    "    height=5,\n",
    "    aspect=2)"
   ]
  },
  {
   "cell_type": "code",
   "execution_count": 17,
   "id": "67989c10",
   "metadata": {
    "scrolled": false
   },
   "outputs": [
    {
     "data": {
      "text/plain": [
       "<seaborn.axisgrid.FacetGrid at 0x1b2c5a44430>"
      ]
     },
     "execution_count": 17,
     "metadata": {},
     "output_type": "execute_result"
    },
    {
     "data": {
      "image/png": "[encoded data removed]",
      "text/plain": [
       "<Figure size 1000x500 with 1 Axes>"
      ]
     },
     "metadata": {},
     "output_type": "display_data"
    }
   ],
   "source": [
    "sns.displot(data['pretest'],kde=True,\n",
    "    height=5,\n",
    "    aspect=2)"
   ]
  },
  {
   "cell_type": "code",
   "execution_count": 18,
   "id": "2a25be5d",
   "metadata": {},
   "outputs": [
    {
     "data": {
      "text/plain": [
       "<seaborn.axisgrid.FacetGrid at 0x1b2c4f34e50>"
      ]
     },
     "execution_count": 18,
     "metadata": {},
     "output_type": "execute_result"
    },
    {
     "data": {
      "image/png": "[encoded data removed]",
      "text/plain": [
       "<Figure size 1000x500 with 1 Axes>"
      ]
     },
     "metadata": {},
     "output_type": "display_data"
    }
   ],
   "source": [
    "sns.displot(data['posttest'],kde=True,\n",
    "    height=5,\n",
    "    aspect=2)"
   ]
  },
  {
   "cell_type": "markdown",
   "id": "326c21e8",
   "metadata": {},
   "source": [
    "Исходя из графиков представленных выше, можно утверждать что данные представленны без каких-либо ярко выраженных выбросов или аномалий."
   ]
  },
  {
   "cell_type": "markdown",
   "id": "888d539b",
   "metadata": {},
   "source": [
    "Т.к. пропусков и аномалий нет, проведем небольшой анализ данных относительно зависимости средней оценки за выпускной экзамен с данными, которые не на прямую влияют на итоговые результаты, обозначенные в абзаце выше."
   ]
  },
  {
   "cell_type": "markdown",
   "id": "3ad0a5b6",
   "metadata": {},
   "source": [
    "Посмотрим как зависит оценка ученика от расположения школы."
   ]
  },
  {
   "cell_type": "code",
   "execution_count": 19,
   "id": "d99b04e0",
   "metadata": {
    "scrolled": false
   },
   "outputs": [
    {
     "data": {
      "image/png": "[encoded data removed]",
      "text/plain": [
       "<Figure size 640x480 with 1 Axes>"
      ]
     },
     "metadata": {},
     "output_type": "display_data"
    }
   ],
   "source": [
    "sns.barplot('school_setting', 'posttest', data = raw_data, color=\"darkturquoise\")\n",
    "plt.show()"
   ]
  },
  {
   "cell_type": "markdown",
   "id": "32445b62",
   "metadata": {},
   "source": [
    "Исходя из графика выше, можно сделать вывод о том, что средний балл выпускника городской школы будет ниже чем средние баллы выпускников пригородных и загородных(сельских?) школ. Возможно это связано с тем что в городах чаще встречаются государственные школы, когда в пригородах частные(?), также можно предположить что в загородных школах меньше учеников, что позволяет сохранить средний балл чуть выше, чем у городских, для проверки наших утверждений можем построить аналогичное графическое представление для характеристики school_type, для чего необходимо заменить строковые значения на 1 - государственная и 0 - частная, что мы уже проделали в пункте выше, для проведения корреляционного анализа."
   ]
  },
  {
   "cell_type": "code",
   "execution_count": 20,
   "id": "7059e1df",
   "metadata": {},
   "outputs": [
    {
     "name": "stdout",
     "output_type": "stream",
     "text": [
      "['Non-public' 'Public']\n"
     ]
    }
   ],
   "source": [
    "unique_values = raw_data['school_type'].unique()\n",
    "\n",
    "print(unique_values)"
   ]
  },
  {
   "cell_type": "markdown",
   "id": "44f9471d",
   "metadata": {},
   "source": [
    "Исходные данные:"
   ]
  },
  {
   "cell_type": "code",
   "execution_count": 21,
   "id": "394eca33",
   "metadata": {
    "scrolled": false
   },
   "outputs": [
    {
     "data": {
      "text/html": [
       "<div>\n",
       "<style scoped>\n",
       "    .dataframe tbody tr th:only-of-type {\n",
       "        vertical-align: middle;\n",
       "    }\n",
       "\n",
       "    .dataframe tbody tr th {\n",
       "        vertical-align: top;\n",
       "    }\n",
       "\n",
       "    .dataframe thead th {\n",
       "        text-align: right;\n",
       "    }\n",
       "</style>\n",
       "<table border=\"1\" class=\"dataframe\">\n",
       "  <thead>\n",
       "    <tr style=\"text-align: right;\">\n",
       "      <th></th>\n",
       "      <th>school</th>\n",
       "      <th>school_setting</th>\n",
       "      <th>school_type</th>\n",
       "      <th>classroom</th>\n",
       "      <th>teaching_method</th>\n",
       "      <th>n_student</th>\n",
       "      <th>student_id</th>\n",
       "      <th>gender</th>\n",
       "      <th>lunch</th>\n",
       "      <th>pretest</th>\n",
       "      <th>posttest</th>\n",
       "    </tr>\n",
       "  </thead>\n",
       "  <tbody>\n",
       "    <tr>\n",
       "      <th>0</th>\n",
       "      <td>ANKYI</td>\n",
       "      <td>Urban</td>\n",
       "      <td>Non-public</td>\n",
       "      <td>6OL</td>\n",
       "      <td>Standard</td>\n",
       "      <td>20.0</td>\n",
       "      <td>2FHT3</td>\n",
       "      <td>Female</td>\n",
       "      <td>Does not qualify</td>\n",
       "      <td>62.0</td>\n",
       "      <td>72.0</td>\n",
       "    </tr>\n",
       "    <tr>\n",
       "      <th>1</th>\n",
       "      <td>ANKYI</td>\n",
       "      <td>Urban</td>\n",
       "      <td>Non-public</td>\n",
       "      <td>6OL</td>\n",
       "      <td>Standard</td>\n",
       "      <td>20.0</td>\n",
       "      <td>3JIVH</td>\n",
       "      <td>Female</td>\n",
       "      <td>Does not qualify</td>\n",
       "      <td>66.0</td>\n",
       "      <td>79.0</td>\n",
       "    </tr>\n",
       "    <tr>\n",
       "      <th>2</th>\n",
       "      <td>ANKYI</td>\n",
       "      <td>Urban</td>\n",
       "      <td>Non-public</td>\n",
       "      <td>6OL</td>\n",
       "      <td>Standard</td>\n",
       "      <td>20.0</td>\n",
       "      <td>3XOWE</td>\n",
       "      <td>Male</td>\n",
       "      <td>Does not qualify</td>\n",
       "      <td>64.0</td>\n",
       "      <td>76.0</td>\n",
       "    </tr>\n",
       "    <tr>\n",
       "      <th>3</th>\n",
       "      <td>ANKYI</td>\n",
       "      <td>Urban</td>\n",
       "      <td>Non-public</td>\n",
       "      <td>6OL</td>\n",
       "      <td>Standard</td>\n",
       "      <td>20.0</td>\n",
       "      <td>556O0</td>\n",
       "      <td>Female</td>\n",
       "      <td>Does not qualify</td>\n",
       "      <td>61.0</td>\n",
       "      <td>77.0</td>\n",
       "    </tr>\n",
       "    <tr>\n",
       "      <th>4</th>\n",
       "      <td>ANKYI</td>\n",
       "      <td>Urban</td>\n",
       "      <td>Non-public</td>\n",
       "      <td>6OL</td>\n",
       "      <td>Standard</td>\n",
       "      <td>20.0</td>\n",
       "      <td>74LOE</td>\n",
       "      <td>Male</td>\n",
       "      <td>Does not qualify</td>\n",
       "      <td>64.0</td>\n",
       "      <td>76.0</td>\n",
       "    </tr>\n",
       "    <tr>\n",
       "      <th>...</th>\n",
       "      <td>...</td>\n",
       "      <td>...</td>\n",
       "      <td>...</td>\n",
       "      <td>...</td>\n",
       "      <td>...</td>\n",
       "      <td>...</td>\n",
       "      <td>...</td>\n",
       "      <td>...</td>\n",
       "      <td>...</td>\n",
       "      <td>...</td>\n",
       "      <td>...</td>\n",
       "    </tr>\n",
       "    <tr>\n",
       "      <th>2128</th>\n",
       "      <td>ZOWMK</td>\n",
       "      <td>Urban</td>\n",
       "      <td>Public</td>\n",
       "      <td>ZBH</td>\n",
       "      <td>Standard</td>\n",
       "      <td>30.0</td>\n",
       "      <td>T8LSK</td>\n",
       "      <td>Female</td>\n",
       "      <td>Does not qualify</td>\n",
       "      <td>39.0</td>\n",
       "      <td>55.0</td>\n",
       "    </tr>\n",
       "    <tr>\n",
       "      <th>2129</th>\n",
       "      <td>ZOWMK</td>\n",
       "      <td>Urban</td>\n",
       "      <td>Public</td>\n",
       "      <td>ZBH</td>\n",
       "      <td>Standard</td>\n",
       "      <td>30.0</td>\n",
       "      <td>VNP26</td>\n",
       "      <td>Female</td>\n",
       "      <td>Qualifies for reduced/free lunch</td>\n",
       "      <td>38.0</td>\n",
       "      <td>46.0</td>\n",
       "    </tr>\n",
       "    <tr>\n",
       "      <th>2130</th>\n",
       "      <td>ZOWMK</td>\n",
       "      <td>Urban</td>\n",
       "      <td>Public</td>\n",
       "      <td>ZBH</td>\n",
       "      <td>Standard</td>\n",
       "      <td>30.0</td>\n",
       "      <td>YDR1Z</td>\n",
       "      <td>Female</td>\n",
       "      <td>Qualifies for reduced/free lunch</td>\n",
       "      <td>45.0</td>\n",
       "      <td>51.0</td>\n",
       "    </tr>\n",
       "    <tr>\n",
       "      <th>2131</th>\n",
       "      <td>ZOWMK</td>\n",
       "      <td>Urban</td>\n",
       "      <td>Public</td>\n",
       "      <td>ZBH</td>\n",
       "      <td>Standard</td>\n",
       "      <td>30.0</td>\n",
       "      <td>YUEIH</td>\n",
       "      <td>Male</td>\n",
       "      <td>Qualifies for reduced/free lunch</td>\n",
       "      <td>46.0</td>\n",
       "      <td>53.0</td>\n",
       "    </tr>\n",
       "    <tr>\n",
       "      <th>2132</th>\n",
       "      <td>ZOWMK</td>\n",
       "      <td>Urban</td>\n",
       "      <td>Public</td>\n",
       "      <td>ZBH</td>\n",
       "      <td>Standard</td>\n",
       "      <td>30.0</td>\n",
       "      <td>ZVCQ8</td>\n",
       "      <td>Male</td>\n",
       "      <td>Qualifies for reduced/free lunch</td>\n",
       "      <td>41.0</td>\n",
       "      <td>48.0</td>\n",
       "    </tr>\n",
       "  </tbody>\n",
       "</table>\n",
       "<p>2133 rows × 11 columns</p>\n",
       "</div>"
      ],
      "text/plain": [
       "     school school_setting school_type classroom teaching_method  n_student  \\\n",
       "0     ANKYI          Urban  Non-public       6OL        Standard       20.0   \n",
       "1     ANKYI          Urban  Non-public       6OL        Standard       20.0   \n",
       "2     ANKYI          Urban  Non-public       6OL        Standard       20.0   \n",
       "3     ANKYI          Urban  Non-public       6OL        Standard       20.0   \n",
       "4     ANKYI          Urban  Non-public       6OL        Standard       20.0   \n",
       "...     ...            ...         ...       ...             ...        ...   \n",
       "2128  ZOWMK          Urban      Public       ZBH        Standard       30.0   \n",
       "2129  ZOWMK          Urban      Public       ZBH        Standard       30.0   \n",
       "2130  ZOWMK          Urban      Public       ZBH        Standard       30.0   \n",
       "2131  ZOWMK          Urban      Public       ZBH        Standard       30.0   \n",
       "2132  ZOWMK          Urban      Public       ZBH        Standard       30.0   \n",
       "\n",
       "     student_id  gender                             lunch  pretest  posttest  \n",
       "0         2FHT3  Female                  Does not qualify     62.0      72.0  \n",
       "1         3JIVH  Female                  Does not qualify     66.0      79.0  \n",
       "2         3XOWE    Male                  Does not qualify     64.0      76.0  \n",
       "3         556O0  Female                  Does not qualify     61.0      77.0  \n",
       "4         74LOE    Male                  Does not qualify     64.0      76.0  \n",
       "...         ...     ...                               ...      ...       ...  \n",
       "2128      T8LSK  Female                  Does not qualify     39.0      55.0  \n",
       "2129      VNP26  Female  Qualifies for reduced/free lunch     38.0      46.0  \n",
       "2130      YDR1Z  Female  Qualifies for reduced/free lunch     45.0      51.0  \n",
       "2131      YUEIH    Male  Qualifies for reduced/free lunch     46.0      53.0  \n",
       "2132      ZVCQ8    Male  Qualifies for reduced/free lunch     41.0      48.0  \n",
       "\n",
       "[2133 rows x 11 columns]"
      ]
     },
     "execution_count": 21,
     "metadata": {},
     "output_type": "execute_result"
    }
   ],
   "source": [
    "raw_data"
   ]
  },
  {
   "cell_type": "markdown",
   "id": "cfa4bc02",
   "metadata": {},
   "source": [
    "Обработанные данные:"
   ]
  },
  {
   "cell_type": "code",
   "execution_count": 22,
   "id": "44f22947",
   "metadata": {
    "scrolled": false
   },
   "outputs": [
    {
     "data": {
      "text/html": [
       "<div>\n",
       "<style scoped>\n",
       "    .dataframe tbody tr th:only-of-type {\n",
       "        vertical-align: middle;\n",
       "    }\n",
       "\n",
       "    .dataframe tbody tr th {\n",
       "        vertical-align: top;\n",
       "    }\n",
       "\n",
       "    .dataframe thead th {\n",
       "        text-align: right;\n",
       "    }\n",
       "</style>\n",
       "<table border=\"1\" class=\"dataframe\">\n",
       "  <thead>\n",
       "    <tr style=\"text-align: right;\">\n",
       "      <th></th>\n",
       "      <th>school_setting</th>\n",
       "      <th>school_type</th>\n",
       "      <th>teaching_method</th>\n",
       "      <th>n_student</th>\n",
       "      <th>gender</th>\n",
       "      <th>lunch</th>\n",
       "      <th>pretest</th>\n",
       "      <th>posttest</th>\n",
       "    </tr>\n",
       "  </thead>\n",
       "  <tbody>\n",
       "    <tr>\n",
       "      <th>0</th>\n",
       "      <td>1</td>\n",
       "      <td>1</td>\n",
       "      <td>0</td>\n",
       "      <td>20</td>\n",
       "      <td>1</td>\n",
       "      <td>1</td>\n",
       "      <td>62</td>\n",
       "      <td>72</td>\n",
       "    </tr>\n",
       "    <tr>\n",
       "      <th>1</th>\n",
       "      <td>1</td>\n",
       "      <td>1</td>\n",
       "      <td>0</td>\n",
       "      <td>20</td>\n",
       "      <td>1</td>\n",
       "      <td>1</td>\n",
       "      <td>66</td>\n",
       "      <td>79</td>\n",
       "    </tr>\n",
       "    <tr>\n",
       "      <th>2</th>\n",
       "      <td>1</td>\n",
       "      <td>1</td>\n",
       "      <td>0</td>\n",
       "      <td>20</td>\n",
       "      <td>0</td>\n",
       "      <td>1</td>\n",
       "      <td>64</td>\n",
       "      <td>76</td>\n",
       "    </tr>\n",
       "    <tr>\n",
       "      <th>3</th>\n",
       "      <td>1</td>\n",
       "      <td>1</td>\n",
       "      <td>0</td>\n",
       "      <td>20</td>\n",
       "      <td>1</td>\n",
       "      <td>1</td>\n",
       "      <td>61</td>\n",
       "      <td>77</td>\n",
       "    </tr>\n",
       "    <tr>\n",
       "      <th>4</th>\n",
       "      <td>1</td>\n",
       "      <td>1</td>\n",
       "      <td>0</td>\n",
       "      <td>20</td>\n",
       "      <td>0</td>\n",
       "      <td>1</td>\n",
       "      <td>64</td>\n",
       "      <td>76</td>\n",
       "    </tr>\n",
       "    <tr>\n",
       "      <th>...</th>\n",
       "      <td>...</td>\n",
       "      <td>...</td>\n",
       "      <td>...</td>\n",
       "      <td>...</td>\n",
       "      <td>...</td>\n",
       "      <td>...</td>\n",
       "      <td>...</td>\n",
       "      <td>...</td>\n",
       "    </tr>\n",
       "    <tr>\n",
       "      <th>2128</th>\n",
       "      <td>1</td>\n",
       "      <td>0</td>\n",
       "      <td>0</td>\n",
       "      <td>30</td>\n",
       "      <td>1</td>\n",
       "      <td>1</td>\n",
       "      <td>39</td>\n",
       "      <td>55</td>\n",
       "    </tr>\n",
       "    <tr>\n",
       "      <th>2129</th>\n",
       "      <td>1</td>\n",
       "      <td>0</td>\n",
       "      <td>0</td>\n",
       "      <td>30</td>\n",
       "      <td>1</td>\n",
       "      <td>0</td>\n",
       "      <td>38</td>\n",
       "      <td>46</td>\n",
       "    </tr>\n",
       "    <tr>\n",
       "      <th>2130</th>\n",
       "      <td>1</td>\n",
       "      <td>0</td>\n",
       "      <td>0</td>\n",
       "      <td>30</td>\n",
       "      <td>1</td>\n",
       "      <td>0</td>\n",
       "      <td>45</td>\n",
       "      <td>51</td>\n",
       "    </tr>\n",
       "    <tr>\n",
       "      <th>2131</th>\n",
       "      <td>1</td>\n",
       "      <td>0</td>\n",
       "      <td>0</td>\n",
       "      <td>30</td>\n",
       "      <td>0</td>\n",
       "      <td>0</td>\n",
       "      <td>46</td>\n",
       "      <td>53</td>\n",
       "    </tr>\n",
       "    <tr>\n",
       "      <th>2132</th>\n",
       "      <td>1</td>\n",
       "      <td>0</td>\n",
       "      <td>0</td>\n",
       "      <td>30</td>\n",
       "      <td>0</td>\n",
       "      <td>0</td>\n",
       "      <td>41</td>\n",
       "      <td>48</td>\n",
       "    </tr>\n",
       "  </tbody>\n",
       "</table>\n",
       "<p>2133 rows × 8 columns</p>\n",
       "</div>"
      ],
      "text/plain": [
       "      school_setting  school_type  teaching_method  n_student  gender  lunch  \\\n",
       "0                  1            1                0         20       1      1   \n",
       "1                  1            1                0         20       1      1   \n",
       "2                  1            1                0         20       0      1   \n",
       "3                  1            1                0         20       1      1   \n",
       "4                  1            1                0         20       0      1   \n",
       "...              ...          ...              ...        ...     ...    ...   \n",
       "2128               1            0                0         30       1      1   \n",
       "2129               1            0                0         30       1      0   \n",
       "2130               1            0                0         30       1      0   \n",
       "2131               1            0                0         30       0      0   \n",
       "2132               1            0                0         30       0      0   \n",
       "\n",
       "      pretest  posttest  \n",
       "0          62        72  \n",
       "1          66        79  \n",
       "2          64        76  \n",
       "3          61        77  \n",
       "4          64        76  \n",
       "...       ...       ...  \n",
       "2128       39        55  \n",
       "2129       38        46  \n",
       "2130       45        51  \n",
       "2131       46        53  \n",
       "2132       41        48  \n",
       "\n",
       "[2133 rows x 8 columns]"
      ]
     },
     "execution_count": 22,
     "metadata": {},
     "output_type": "execute_result"
    }
   ],
   "source": [
    "data"
   ]
  },
  {
   "cell_type": "markdown",
   "id": "7d4b7c59",
   "metadata": {},
   "source": [
    "Исходя из данных полученных из метода \"describe\", использованого ранее, мы имеем 23 уникальных значения id(названий/кодов) школ в нашем наборе данных, следовательно можем узнать соотношение количества школ в той или иной местности."
   ]
  },
  {
   "cell_type": "code",
   "execution_count": 23,
   "id": "587f30de",
   "metadata": {
    "scrolled": false
   },
   "outputs": [
    {
     "name": "stdout",
     "output_type": "stream",
     "text": [
      "['ANKYI' 'CCAAW' 'CIMBB' 'CUQAM' 'DNQDD' 'FBUMG' 'GJJHK' 'GOKXL' 'GOOBU'\n",
      " 'IDGFP' 'KFZMY' 'KZKKE' 'LAYPA' 'OJOBU' 'QOQTS' 'UAGPU' 'UKPGS' 'UUUQX'\n",
      " 'VHDHF' 'VKWQH' 'VVTVA' 'ZMNYA' 'ZOWMK']\n"
     ]
    },
    {
     "data": {
      "text/html": [
       "<div>\n",
       "<style scoped>\n",
       "    .dataframe tbody tr th:only-of-type {\n",
       "        vertical-align: middle;\n",
       "    }\n",
       "\n",
       "    .dataframe tbody tr th {\n",
       "        vertical-align: top;\n",
       "    }\n",
       "\n",
       "    .dataframe thead th {\n",
       "        text-align: right;\n",
       "    }\n",
       "</style>\n",
       "<table border=\"1\" class=\"dataframe\">\n",
       "  <thead>\n",
       "    <tr style=\"text-align: right;\">\n",
       "      <th></th>\n",
       "      <th>school</th>\n",
       "      <th>school_setting</th>\n",
       "      <th>school_type</th>\n",
       "      <th>classroom</th>\n",
       "      <th>teaching_method</th>\n",
       "      <th>n_student</th>\n",
       "      <th>student_id</th>\n",
       "      <th>gender</th>\n",
       "      <th>lunch</th>\n",
       "      <th>pretest</th>\n",
       "      <th>posttest</th>\n",
       "    </tr>\n",
       "  </thead>\n",
       "  <tbody>\n",
       "    <tr>\n",
       "      <th>0</th>\n",
       "      <td>ANKYI</td>\n",
       "      <td>Urban</td>\n",
       "      <td>1</td>\n",
       "      <td>6OL</td>\n",
       "      <td>Standard</td>\n",
       "      <td>20.0</td>\n",
       "      <td>2FHT3</td>\n",
       "      <td>Female</td>\n",
       "      <td>Does not qualify</td>\n",
       "      <td>62.0</td>\n",
       "      <td>72.0</td>\n",
       "    </tr>\n",
       "    <tr>\n",
       "      <th>41</th>\n",
       "      <td>CCAAW</td>\n",
       "      <td>Suburban</td>\n",
       "      <td>1</td>\n",
       "      <td>2B1</td>\n",
       "      <td>Experimental</td>\n",
       "      <td>18.0</td>\n",
       "      <td>1IALS</td>\n",
       "      <td>Female</td>\n",
       "      <td>Does not qualify</td>\n",
       "      <td>61.0</td>\n",
       "      <td>75.0</td>\n",
       "    </tr>\n",
       "    <tr>\n",
       "      <th>150</th>\n",
       "      <td>CIMBB</td>\n",
       "      <td>Urban</td>\n",
       "      <td>1</td>\n",
       "      <td>A33</td>\n",
       "      <td>Standard</td>\n",
       "      <td>19.0</td>\n",
       "      <td>0WW6N</td>\n",
       "      <td>Male</td>\n",
       "      <td>Does not qualify</td>\n",
       "      <td>60.0</td>\n",
       "      <td>67.0</td>\n",
       "    </tr>\n",
       "    <tr>\n",
       "      <th>224</th>\n",
       "      <td>CUQAM</td>\n",
       "      <td>Urban</td>\n",
       "      <td>0</td>\n",
       "      <td>1Q1</td>\n",
       "      <td>Standard</td>\n",
       "      <td>28.0</td>\n",
       "      <td>14K8S</td>\n",
       "      <td>Female</td>\n",
       "      <td>Does not qualify</td>\n",
       "      <td>55.0</td>\n",
       "      <td>70.0</td>\n",
       "    </tr>\n",
       "    <tr>\n",
       "      <th>331</th>\n",
       "      <td>DNQDD</td>\n",
       "      <td>Suburban</td>\n",
       "      <td>0</td>\n",
       "      <td>2AP</td>\n",
       "      <td>Standard</td>\n",
       "      <td>27.0</td>\n",
       "      <td>1K0Q5</td>\n",
       "      <td>Female</td>\n",
       "      <td>Does not qualify</td>\n",
       "      <td>54.0</td>\n",
       "      <td>67.0</td>\n",
       "    </tr>\n",
       "  </tbody>\n",
       "</table>\n",
       "</div>"
      ],
      "text/plain": [
       "    school school_setting  school_type classroom teaching_method  n_student  \\\n",
       "0    ANKYI          Urban            1       6OL        Standard       20.0   \n",
       "41   CCAAW       Suburban            1       2B1    Experimental       18.0   \n",
       "150  CIMBB          Urban            1       A33        Standard       19.0   \n",
       "224  CUQAM          Urban            0       1Q1        Standard       28.0   \n",
       "331  DNQDD       Suburban            0       2AP        Standard       27.0   \n",
       "\n",
       "    student_id  gender             lunch  pretest  posttest  \n",
       "0        2FHT3  Female  Does not qualify     62.0      72.0  \n",
       "41       1IALS  Female  Does not qualify     61.0      75.0  \n",
       "150      0WW6N    Male  Does not qualify     60.0      67.0  \n",
       "224      14K8S  Female  Does not qualify     55.0      70.0  \n",
       "331      1K0Q5  Female  Does not qualify     54.0      67.0  "
      ]
     },
     "execution_count": 23,
     "metadata": {},
     "output_type": "execute_result"
    }
   ],
   "source": [
    "unique_values = raw_data['school'].unique()\n",
    "print(unique_values)\n",
    "df_filtered = raw_data.drop_duplicates(subset=['school'])\n",
    "df_filtered['school_type'] = df_filtered['school_type'].replace({'Public': '0', 'Non-public': '1'})\n",
    "df_filtered['school_type'] = (df_filtered['school_type'].astype(int)) #преобразуем в int\n",
    "df_filtered.head(5)"
   ]
  },
  {
   "cell_type": "code",
   "execution_count": 24,
   "id": "48723c81",
   "metadata": {
    "scrolled": false
   },
   "outputs": [
    {
     "data": {
      "image/png": "[encoded data removed]",
      "text/plain": [
       "<Figure size 640x480 with 1 Axes>"
      ]
     },
     "metadata": {},
     "output_type": "display_data"
    }
   ],
   "source": [
    "sns.barplot('school_setting', 'school_type', data = df_filtered, color=\"darkturquoise\")\n",
    "plt.show()"
   ]
  },
  {
   "cell_type": "markdown",
   "id": "fa0cf4e8",
   "metadata": {},
   "source": [
    "Судя по графику, выдвинутое выше предположение может является истинным относительно исследуемых данных, исходя из графика, можно утверждать что пригородные и загородные государственные учебные завидения являются менее распространнеными для исходных данных."
   ]
  },
  {
   "cell_type": "code",
   "execution_count": 25,
   "id": "3c88d15c",
   "metadata": {},
   "outputs": [
    {
     "data": {
      "image/png": "[encoded data removed]",
      "text/plain": [
       "<Figure size 640x480 with 1 Axes>"
      ]
     },
     "metadata": {},
     "output_type": "display_data"
    }
   ],
   "source": [
    "sns.barplot('school_type', 'posttest', data = raw_data, color=\"darkturquoise\")\n",
    "plt.show()"
   ]
  },
  {
   "cell_type": "markdown",
   "id": "a662320d",
   "metadata": {},
   "source": [
    "Предположение выше, о том, что средний балл выпускников частных школ выше, чем у учеников государственных заведений было верно, что можно видеть из графика выше."
   ]
  },
  {
   "cell_type": "code",
   "execution_count": 26,
   "id": "ef45d7e0",
   "metadata": {
    "scrolled": false
   },
   "outputs": [
    {
     "data": {
      "image/png": "[encoded data removed]",
      "text/plain": [
       "<Figure size 640x480 with 1 Axes>"
      ]
     },
     "metadata": {},
     "output_type": "display_data"
    }
   ],
   "source": [
    "sns.barplot('lunch', 'posttest', data = raw_data, color=\"darkturquoise\")\n",
    "plt.show()"
   ]
  },
  {
   "cell_type": "markdown",
   "id": "243737fe",
   "metadata": {},
   "source": [
    "Также предположени о том, что студенты, получающие льготную помощь показывают в учёбе себя хуже также оказалось верным."
   ]
  },
  {
   "cell_type": "code",
   "execution_count": 27,
   "id": "9926109d",
   "metadata": {
    "scrolled": false
   },
   "outputs": [
    {
     "data": {
      "image/png": "[encoded data removed]",
      "text/plain": [
       "<Figure size 640x480 with 1 Axes>"
      ]
     },
     "metadata": {},
     "output_type": "display_data"
    }
   ],
   "source": [
    "sns.barplot('teaching_method', 'posttest', data = raw_data, color=\"darkturquoise\")\n",
    "plt.show()"
   ]
  },
  {
   "cell_type": "markdown",
   "id": "2b9652cd",
   "metadata": {},
   "source": [
    "Также видим что эксперементальные методы обучения позитивнее влияют на успешность прохождения экзаменационных заданий.\n",
    "\n",
    "#### Вывод:\n",
    "В результате первичной обработки даннхы мы избавились от неинтересующих нас столбцов данных, проверили наши данные на пустые данные, провели проверку на наличие аномальных данных. В результате данного анализа мы обнаружили, что в исходных данных нет пропущенных/пустых данных, данные похеже на те, в которых нет ярко выраженных аномальных данных. Таким образом полученные данные можно использовать в работе на следующих этапах нашей работы."
   ]
  },
  {
   "cell_type": "markdown",
   "id": "d93b53f1",
   "metadata": {},
   "source": [
    "# Построение регрессии "
   ]
  },
  {
   "cell_type": "markdown",
   "id": "a0eeed10",
   "metadata": {},
   "source": [
    "Выделим независимые переменные и целевую переменную"
   ]
  },
  {
   "cell_type": "markdown",
   "id": "eada6065",
   "metadata": {},
   "source": [
    "Т.к. для построения регрессионной модели нам требуется использовать числовые интерпритации характеристик, то воспользуемся тем набором данных - data, полученным для проведения корреляционного анализа, т.к. он уже преобразовам подходящим нам образом."
   ]
  },
  {
   "cell_type": "code",
   "execution_count": 28,
   "id": "448b5e33",
   "metadata": {},
   "outputs": [],
   "source": [
    "targets = data['posttest'] #Целевая переменная\n",
    "inputs = data.drop('posttest',axis = 1) # Независимые переменные"
   ]
  },
  {
   "cell_type": "code",
   "execution_count": 29,
   "id": "2a2bfc30",
   "metadata": {},
   "outputs": [
    {
     "data": {
      "text/html": [
       "<div>\n",
       "<style scoped>\n",
       "    .dataframe tbody tr th:only-of-type {\n",
       "        vertical-align: middle;\n",
       "    }\n",
       "\n",
       "    .dataframe tbody tr th {\n",
       "        vertical-align: top;\n",
       "    }\n",
       "\n",
       "    .dataframe thead th {\n",
       "        text-align: right;\n",
       "    }\n",
       "</style>\n",
       "<table border=\"1\" class=\"dataframe\">\n",
       "  <thead>\n",
       "    <tr style=\"text-align: right;\">\n",
       "      <th></th>\n",
       "      <th>school_setting</th>\n",
       "      <th>school_type</th>\n",
       "      <th>teaching_method</th>\n",
       "      <th>n_student</th>\n",
       "      <th>gender</th>\n",
       "      <th>lunch</th>\n",
       "      <th>pretest</th>\n",
       "    </tr>\n",
       "  </thead>\n",
       "  <tbody>\n",
       "    <tr>\n",
       "      <th>0</th>\n",
       "      <td>1</td>\n",
       "      <td>1</td>\n",
       "      <td>0</td>\n",
       "      <td>20</td>\n",
       "      <td>1</td>\n",
       "      <td>1</td>\n",
       "      <td>62</td>\n",
       "    </tr>\n",
       "    <tr>\n",
       "      <th>1</th>\n",
       "      <td>1</td>\n",
       "      <td>1</td>\n",
       "      <td>0</td>\n",
       "      <td>20</td>\n",
       "      <td>1</td>\n",
       "      <td>1</td>\n",
       "      <td>66</td>\n",
       "    </tr>\n",
       "    <tr>\n",
       "      <th>2</th>\n",
       "      <td>1</td>\n",
       "      <td>1</td>\n",
       "      <td>0</td>\n",
       "      <td>20</td>\n",
       "      <td>0</td>\n",
       "      <td>1</td>\n",
       "      <td>64</td>\n",
       "    </tr>\n",
       "    <tr>\n",
       "      <th>3</th>\n",
       "      <td>1</td>\n",
       "      <td>1</td>\n",
       "      <td>0</td>\n",
       "      <td>20</td>\n",
       "      <td>1</td>\n",
       "      <td>1</td>\n",
       "      <td>61</td>\n",
       "    </tr>\n",
       "    <tr>\n",
       "      <th>4</th>\n",
       "      <td>1</td>\n",
       "      <td>1</td>\n",
       "      <td>0</td>\n",
       "      <td>20</td>\n",
       "      <td>0</td>\n",
       "      <td>1</td>\n",
       "      <td>64</td>\n",
       "    </tr>\n",
       "    <tr>\n",
       "      <th>...</th>\n",
       "      <td>...</td>\n",
       "      <td>...</td>\n",
       "      <td>...</td>\n",
       "      <td>...</td>\n",
       "      <td>...</td>\n",
       "      <td>...</td>\n",
       "      <td>...</td>\n",
       "    </tr>\n",
       "    <tr>\n",
       "      <th>2128</th>\n",
       "      <td>1</td>\n",
       "      <td>0</td>\n",
       "      <td>0</td>\n",
       "      <td>30</td>\n",
       "      <td>1</td>\n",
       "      <td>1</td>\n",
       "      <td>39</td>\n",
       "    </tr>\n",
       "    <tr>\n",
       "      <th>2129</th>\n",
       "      <td>1</td>\n",
       "      <td>0</td>\n",
       "      <td>0</td>\n",
       "      <td>30</td>\n",
       "      <td>1</td>\n",
       "      <td>0</td>\n",
       "      <td>38</td>\n",
       "    </tr>\n",
       "    <tr>\n",
       "      <th>2130</th>\n",
       "      <td>1</td>\n",
       "      <td>0</td>\n",
       "      <td>0</td>\n",
       "      <td>30</td>\n",
       "      <td>1</td>\n",
       "      <td>0</td>\n",
       "      <td>45</td>\n",
       "    </tr>\n",
       "    <tr>\n",
       "      <th>2131</th>\n",
       "      <td>1</td>\n",
       "      <td>0</td>\n",
       "      <td>0</td>\n",
       "      <td>30</td>\n",
       "      <td>0</td>\n",
       "      <td>0</td>\n",
       "      <td>46</td>\n",
       "    </tr>\n",
       "    <tr>\n",
       "      <th>2132</th>\n",
       "      <td>1</td>\n",
       "      <td>0</td>\n",
       "      <td>0</td>\n",
       "      <td>30</td>\n",
       "      <td>0</td>\n",
       "      <td>0</td>\n",
       "      <td>41</td>\n",
       "    </tr>\n",
       "  </tbody>\n",
       "</table>\n",
       "<p>2133 rows × 7 columns</p>\n",
       "</div>"
      ],
      "text/plain": [
       "      school_setting  school_type  teaching_method  n_student  gender  lunch  \\\n",
       "0                  1            1                0         20       1      1   \n",
       "1                  1            1                0         20       1      1   \n",
       "2                  1            1                0         20       0      1   \n",
       "3                  1            1                0         20       1      1   \n",
       "4                  1            1                0         20       0      1   \n",
       "...              ...          ...              ...        ...     ...    ...   \n",
       "2128               1            0                0         30       1      1   \n",
       "2129               1            0                0         30       1      0   \n",
       "2130               1            0                0         30       1      0   \n",
       "2131               1            0                0         30       0      0   \n",
       "2132               1            0                0         30       0      0   \n",
       "\n",
       "      pretest  \n",
       "0          62  \n",
       "1          66  \n",
       "2          64  \n",
       "3          61  \n",
       "4          64  \n",
       "...       ...  \n",
       "2128       39  \n",
       "2129       38  \n",
       "2130       45  \n",
       "2131       46  \n",
       "2132       41  \n",
       "\n",
       "[2133 rows x 7 columns]"
      ]
     },
     "execution_count": 29,
     "metadata": {},
     "output_type": "execute_result"
    }
   ],
   "source": [
    "inputs"
   ]
  },
  {
   "cell_type": "code",
   "execution_count": 30,
   "id": "02ab6601",
   "metadata": {},
   "outputs": [
    {
     "data": {
      "text/plain": [
       "0       72\n",
       "1       79\n",
       "2       76\n",
       "3       77\n",
       "4       76\n",
       "        ..\n",
       "2128    55\n",
       "2129    46\n",
       "2130    51\n",
       "2131    53\n",
       "2132    48\n",
       "Name: posttest, Length: 2133, dtype: int32"
      ]
     },
     "execution_count": 30,
     "metadata": {},
     "output_type": "execute_result"
    }
   ],
   "source": [
    "targets"
   ]
  },
  {
   "cell_type": "markdown",
   "id": "fdeadee3",
   "metadata": {},
   "source": [
    "### Создаём модель "
   ]
  },
  {
   "cell_type": "markdown",
   "id": "5e314f1c",
   "metadata": {},
   "source": [
    "Линейная регрессия является методом моделирования зависимости между одной непрерывной зависимой переменной (целевой переменной) и одной или несколькими независимыми переменными (факторами), которые могут быть как непрерывными, так и категориальными, т.к. это соответсвует поставленной перед нами задаче, то будем выполнять исследование используя линейную регрессию."
   ]
  },
  {
   "cell_type": "markdown",
   "id": "54cddb01",
   "metadata": {},
   "source": [
    "Инициализируем линенйную регрессию и подставляем туда тренировочные данные"
   ]
  },
  {
   "cell_type": "markdown",
   "id": "dfa1cc97",
   "metadata": {},
   "source": [
    "Берем следующее соотношение данных - тестовый набор данных = 1/3, тренировной набор данных = 2/3"
   ]
  },
  {
   "cell_type": "code",
   "execution_count": 31,
   "id": "edf8d83d",
   "metadata": {},
   "outputs": [
    {
     "data": {
      "image/png": "[encoded data removed]",
      "text/plain": [
       "<Figure size 640x480 with 1 Axes>"
      ]
     },
     "metadata": {},
     "output_type": "display_data"
    }
   ],
   "source": [
    "x_train, x_test, y_train, y_test = train_test_split(inputs, targets, test_size = 0.33, random_state = 42)\n",
    "reg = LinearRegression()\n",
    "reg.fit(x_train, y_train)\n",
    "y_pred = reg.predict(x_train)\n",
    "y_pred = np.clip(y_pred, 0, 100)#вводим ограничения на возможные значения прогнозируемых даннхы в диапазоне [0,100]\n",
    "plt.scatter(y_train, y_pred)\n",
    "plt.xlabel('Targets (y_train)',size = 18)\n",
    "plt.ylabel('Predictions (y_pred)',size = 18)\n",
    "plt.show()\n"
   ]
  },
  {
   "cell_type": "markdown",
   "id": "7fa569e5",
   "metadata": {},
   "source": [
    "Облако точек выстроено в линию 45 градуссов и имеет минимальное рассеивание, значит у нас получился хороший прогноз "
   ]
  },
  {
   "cell_type": "markdown",
   "id": "c675966e",
   "metadata": {},
   "source": [
    "Построим график распредления остатков"
   ]
  },
  {
   "cell_type": "code",
   "execution_count": 32,
   "id": "7e0b3865",
   "metadata": {},
   "outputs": [
    {
     "data": {
      "text/plain": [
       "Text(0.5, 1.0, 'Residuals PDF')"
      ]
     },
     "execution_count": 32,
     "metadata": {},
     "output_type": "execute_result"
    },
    {
     "data": {
      "image/png": "[encoded data removed]",
      "text/plain": [
       "<Figure size 640x480 with 1 Axes>"
      ]
     },
     "metadata": {},
     "output_type": "display_data"
    }
   ],
   "source": [
    "sns.distplot(y_train - y_pred)\n",
    "plt.title(\"Residuals PDF\", size = 18)"
   ]
  },
  {
   "cell_type": "markdown",
   "id": "00d3e952",
   "metadata": {},
   "source": [
    " R² - мера, которая измеряет, насколько хорошо линейная модель соответствует данным и выражает долю вариации зависимой переменной, которая может быть объяснена независимыми переменными в модели.\n",
    "\n",
    "#### Вывод:\n",
    "В нашем случае вычисляем R² для тренировочных данных, что позволяет оценить, насколько хорошо модель подходит для тренировочных данных. Т.к. R² близко к 1 (~0.95), это означает, что модель очень хорошо подходит для наших данных."
   ]
  },
  {
   "cell_type": "code",
   "execution_count": 33,
   "id": "65320b31",
   "metadata": {},
   "outputs": [
    {
     "data": {
      "text/plain": [
       "0.9471187589851566"
      ]
     },
     "execution_count": 33,
     "metadata": {},
     "output_type": "execute_result"
    }
   ],
   "source": [
    "reg.score(x_train, y_train)"
   ]
  },
  {
   "cell_type": "markdown",
   "id": "38fa64f9",
   "metadata": {},
   "source": [
    "### Находим значение весов"
   ]
  },
  {
   "cell_type": "markdown",
   "id": "ec381f18",
   "metadata": {},
   "source": [
    "В линейной регрессии, обученная модель представляет собой уравнение вида:\n",
    "\n",
    "y = w0 + w1x1 + w2x2 + ... + wn*xn\n",
    "\n",
    "где y - зависимая переменная, x1, x2, ..., xn - независимые переменные, w0 - свободный коэффициент (intercept), а w1, w2, ..., wn - коэффициенты, соответствующие каждой независимой переменной.\n",
    "\n",
    "Коэффициенты модели, которые находятся перед каждой независимой переменной, представляют собой вектор w = (w1, w2, ..., wn), который может быть получен из атрибута coef_ обученной модели. Атрибут intercept_ представляет свободный коэффициент w0.\n",
    "\n",
    "Найдем w0 и w."
   ]
  },
  {
   "cell_type": "code",
   "execution_count": 34,
   "id": "6ae179ce",
   "metadata": {},
   "outputs": [
    {
     "data": {
      "text/plain": [
       "15.4177949394429"
      ]
     },
     "execution_count": 34,
     "metadata": {},
     "output_type": "execute_result"
    }
   ],
   "source": [
    "reg.intercept_"
   ]
  },
  {
   "cell_type": "code",
   "execution_count": 35,
   "id": "a888e61e",
   "metadata": {
    "scrolled": true
   },
   "outputs": [
    {
     "data": {
      "text/plain": [
       "array([ 0.03486995, -0.20594485,  6.00490921, -0.0899723 ,  0.18208494,\n",
       "        0.54110398,  0.93180471])"
      ]
     },
     "execution_count": 35,
     "metadata": {},
     "output_type": "execute_result"
    }
   ],
   "source": [
    "reg.coef_"
   ]
  },
  {
   "cell_type": "markdown",
   "id": "14aa748f",
   "metadata": {},
   "source": [
    "Т.к значения весов в линейной регрессии позволяют определить, как каждая из независимых переменных влияет на зависимую переменную и каким образом можно использовать эти взаимосвязи для прогнозирования значений зависимой переменной на новых данных, найдем значения w для каждой независимой переменной.\n",
    "\n",
    "Создадим сводку весов и переменных."
   ]
  },
  {
   "cell_type": "code",
   "execution_count": 36,
   "id": "ccb779a6",
   "metadata": {},
   "outputs": [
    {
     "data": {
      "text/html": [
       "<div>\n",
       "<style scoped>\n",
       "    .dataframe tbody tr th:only-of-type {\n",
       "        vertical-align: middle;\n",
       "    }\n",
       "\n",
       "    .dataframe tbody tr th {\n",
       "        vertical-align: top;\n",
       "    }\n",
       "\n",
       "    .dataframe thead th {\n",
       "        text-align: right;\n",
       "    }\n",
       "</style>\n",
       "<table border=\"1\" class=\"dataframe\">\n",
       "  <thead>\n",
       "    <tr style=\"text-align: right;\">\n",
       "      <th></th>\n",
       "      <th>Features</th>\n",
       "      <th>Weights</th>\n",
       "    </tr>\n",
       "  </thead>\n",
       "  <tbody>\n",
       "    <tr>\n",
       "      <th>0</th>\n",
       "      <td>school_setting</td>\n",
       "      <td>0.034870</td>\n",
       "    </tr>\n",
       "    <tr>\n",
       "      <th>1</th>\n",
       "      <td>school_type</td>\n",
       "      <td>-0.205945</td>\n",
       "    </tr>\n",
       "    <tr>\n",
       "      <th>2</th>\n",
       "      <td>teaching_method</td>\n",
       "      <td>6.004909</td>\n",
       "    </tr>\n",
       "    <tr>\n",
       "      <th>3</th>\n",
       "      <td>n_student</td>\n",
       "      <td>-0.089972</td>\n",
       "    </tr>\n",
       "    <tr>\n",
       "      <th>4</th>\n",
       "      <td>gender</td>\n",
       "      <td>0.182085</td>\n",
       "    </tr>\n",
       "    <tr>\n",
       "      <th>5</th>\n",
       "      <td>lunch</td>\n",
       "      <td>0.541104</td>\n",
       "    </tr>\n",
       "    <tr>\n",
       "      <th>6</th>\n",
       "      <td>pretest</td>\n",
       "      <td>0.931805</td>\n",
       "    </tr>\n",
       "  </tbody>\n",
       "</table>\n",
       "</div>"
      ],
      "text/plain": [
       "          Features   Weights\n",
       "0   school_setting  0.034870\n",
       "1      school_type -0.205945\n",
       "2  teaching_method  6.004909\n",
       "3        n_student -0.089972\n",
       "4           gender  0.182085\n",
       "5            lunch  0.541104\n",
       "6          pretest  0.931805"
      ]
     },
     "execution_count": 36,
     "metadata": {},
     "output_type": "execute_result"
    }
   ],
   "source": [
    "reg_summary = pd.DataFrame(inputs.columns.values, columns = ['Features'])\n",
    "reg_summary['Weights'] = reg.coef_\n",
    "reg_summary"
   ]
  },
  {
   "cell_type": "markdown",
   "id": "9385808a",
   "metadata": {},
   "source": [
    "Посмотрим прогноз для тестовых данных.\n",
    "\n",
    "Сравниваем тестовые фактические значения с тестовыми значениями прогнозов."
   ]
  },
  {
   "cell_type": "code",
   "execution_count": 37,
   "id": "8e408d2c",
   "metadata": {
    "scrolled": false
   },
   "outputs": [
    {
     "data": {
      "image/png": "[encoded data removed]",
      "text/plain": [
       "<Figure size 640x480 with 1 Axes>"
      ]
     },
     "metadata": {},
     "output_type": "display_data"
    }
   ],
   "source": [
    "y_pred_test = reg.predict(x_test)\n",
    "y_pred_test = np.clip(y_pred_test, 0, 100)#вводим ограничения на возможные значения прогнозируемых даннхы в диапазоне [0,100]\n",
    "plt.scatter(y_test, y_pred_test)\n",
    "plt.xlabel('Targets (y_train)',size = 18)\n",
    "plt.ylabel('Predictions (y_pred)',size = 18)\n",
    "plt.show()"
   ]
  },
  {
   "cell_type": "markdown",
   "id": "b9b3f1b0",
   "metadata": {},
   "source": [
    "#### Вывод:\n",
    "Облако точек похоже на линию в 45 градуссов, значит прогноз хороший. Рассеивание минимально.\n",
    "\n",
    "Т.к. R² близко к 1 (~0.95), это означает, что модель построена хорошо."
   ]
  },
  {
   "cell_type": "code",
   "execution_count": 38,
   "id": "21d32031",
   "metadata": {},
   "outputs": [
    {
     "data": {
      "text/plain": [
       "0.946784710892591"
      ]
     },
     "execution_count": 38,
     "metadata": {},
     "output_type": "execute_result"
    }
   ],
   "source": [
    "reg.score(x_test, y_test)"
   ]
  },
  {
   "cell_type": "markdown",
   "id": "7c7c4fa8",
   "metadata": {},
   "source": [
    "## Метод кросс-валидации"
   ]
  },
  {
   "cell_type": "markdown",
   "id": "bc9a265c",
   "metadata": {},
   "source": [
    "Кросс-валидация (cross-validation) - это метод оценки качества модели, который позволяет оценить обобщающую способность модели на независимых данных.\n",
    "\n",
    "Выполним вычисление среднего значения оценок кросс-валидации (R²) используемой для оценки обобщающей способности модели на новых, независимых данных.\n",
    "\n",
    "Т.к. R² равно ~0.87, то это означает, что модель имеет хорошую обобщающую способность и может хорошо работать на новых, независимых данных."
   ]
  },
  {
   "cell_type": "code",
   "execution_count": 39,
   "id": "29048c64",
   "metadata": {},
   "outputs": [
    {
     "data": {
      "text/plain": [
       "0.8707234687224614"
      ]
     },
     "execution_count": 39,
     "metadata": {},
     "output_type": "execute_result"
    }
   ],
   "source": [
    "scores = cross_val_score(reg, inputs, targets, cv = 10)\n",
    "cv_scrore = scores.mean()\n",
    "cv_scrore"
   ]
  },
  {
   "cell_type": "markdown",
   "id": "7efbfc17",
   "metadata": {},
   "source": [
    "Выведем предсказанные значения"
   ]
  },
  {
   "cell_type": "code",
   "execution_count": 40,
   "id": "f134bdea",
   "metadata": {},
   "outputs": [
    {
     "data": {
      "text/html": [
       "<div>\n",
       "<style scoped>\n",
       "    .dataframe tbody tr th:only-of-type {\n",
       "        vertical-align: middle;\n",
       "    }\n",
       "\n",
       "    .dataframe tbody tr th {\n",
       "        vertical-align: top;\n",
       "    }\n",
       "\n",
       "    .dataframe thead th {\n",
       "        text-align: right;\n",
       "    }\n",
       "</style>\n",
       "<table border=\"1\" class=\"dataframe\">\n",
       "  <thead>\n",
       "    <tr style=\"text-align: right;\">\n",
       "      <th></th>\n",
       "      <th>Prediction</th>\n",
       "    </tr>\n",
       "  </thead>\n",
       "  <tbody>\n",
       "    <tr>\n",
       "      <th>0</th>\n",
       "      <td>62.860194</td>\n",
       "    </tr>\n",
       "    <tr>\n",
       "      <th>1</th>\n",
       "      <td>85.120775</td>\n",
       "    </tr>\n",
       "    <tr>\n",
       "      <th>2</th>\n",
       "      <td>72.195454</td>\n",
       "    </tr>\n",
       "    <tr>\n",
       "      <th>3</th>\n",
       "      <td>61.105519</td>\n",
       "    </tr>\n",
       "    <tr>\n",
       "      <th>4</th>\n",
       "      <td>62.591147</td>\n",
       "    </tr>\n",
       "  </tbody>\n",
       "</table>\n",
       "</div>"
      ],
      "text/plain": [
       "   Prediction\n",
       "0   62.860194\n",
       "1   85.120775\n",
       "2   72.195454\n",
       "3   61.105519\n",
       "4   62.591147"
      ]
     },
     "execution_count": 40,
     "metadata": {},
     "output_type": "execute_result"
    }
   ],
   "source": [
    "df_pf = pd.DataFrame(y_pred_test, columns = ['Prediction'])\n",
    "df_pf.head()"
   ]
  },
  {
   "cell_type": "markdown",
   "id": "7520d21f",
   "metadata": {},
   "source": [
    "Сравним фактические результаты с спрогнозированными"
   ]
  },
  {
   "cell_type": "code",
   "execution_count": 41,
   "id": "8f4f4ed7",
   "metadata": {},
   "outputs": [
    {
     "data": {
      "text/html": [
       "<div>\n",
       "<style scoped>\n",
       "    .dataframe tbody tr th:only-of-type {\n",
       "        vertical-align: middle;\n",
       "    }\n",
       "\n",
       "    .dataframe tbody tr th {\n",
       "        vertical-align: top;\n",
       "    }\n",
       "\n",
       "    .dataframe thead th {\n",
       "        text-align: right;\n",
       "    }\n",
       "</style>\n",
       "<table border=\"1\" class=\"dataframe\">\n",
       "  <thead>\n",
       "    <tr style=\"text-align: right;\">\n",
       "      <th></th>\n",
       "      <th>Prediction</th>\n",
       "      <th>Target</th>\n",
       "      <th>Residual</th>\n",
       "      <th>Difference%</th>\n",
       "    </tr>\n",
       "  </thead>\n",
       "  <tbody>\n",
       "    <tr>\n",
       "      <th>0</th>\n",
       "      <td>62.860194</td>\n",
       "      <td>68</td>\n",
       "      <td>5.139806</td>\n",
       "      <td>7.558538</td>\n",
       "    </tr>\n",
       "    <tr>\n",
       "      <th>1</th>\n",
       "      <td>85.120775</td>\n",
       "      <td>87</td>\n",
       "      <td>1.879225</td>\n",
       "      <td>2.160029</td>\n",
       "    </tr>\n",
       "    <tr>\n",
       "      <th>2</th>\n",
       "      <td>72.195454</td>\n",
       "      <td>70</td>\n",
       "      <td>-2.195454</td>\n",
       "      <td>3.136362</td>\n",
       "    </tr>\n",
       "    <tr>\n",
       "      <th>3</th>\n",
       "      <td>61.105519</td>\n",
       "      <td>61</td>\n",
       "      <td>-0.105519</td>\n",
       "      <td>0.172982</td>\n",
       "    </tr>\n",
       "    <tr>\n",
       "      <th>4</th>\n",
       "      <td>62.591147</td>\n",
       "      <td>63</td>\n",
       "      <td>0.408853</td>\n",
       "      <td>0.648972</td>\n",
       "    </tr>\n",
       "    <tr>\n",
       "      <th>5</th>\n",
       "      <td>69.564912</td>\n",
       "      <td>68</td>\n",
       "      <td>-1.564912</td>\n",
       "      <td>2.301341</td>\n",
       "    </tr>\n",
       "    <tr>\n",
       "      <th>6</th>\n",
       "      <td>57.144483</td>\n",
       "      <td>55</td>\n",
       "      <td>-2.144483</td>\n",
       "      <td>3.899060</td>\n",
       "    </tr>\n",
       "    <tr>\n",
       "      <th>7</th>\n",
       "      <td>90.387495</td>\n",
       "      <td>89</td>\n",
       "      <td>-1.387495</td>\n",
       "      <td>1.558983</td>\n",
       "    </tr>\n",
       "    <tr>\n",
       "      <th>8</th>\n",
       "      <td>90.957660</td>\n",
       "      <td>84</td>\n",
       "      <td>-6.957660</td>\n",
       "      <td>8.282929</td>\n",
       "    </tr>\n",
       "    <tr>\n",
       "      <th>9</th>\n",
       "      <td>61.178670</td>\n",
       "      <td>66</td>\n",
       "      <td>4.821330</td>\n",
       "      <td>7.305046</td>\n",
       "    </tr>\n",
       "  </tbody>\n",
       "</table>\n",
       "</div>"
      ],
      "text/plain": [
       "   Prediction  Target  Residual  Difference%\n",
       "0   62.860194      68  5.139806     7.558538\n",
       "1   85.120775      87  1.879225     2.160029\n",
       "2   72.195454      70 -2.195454     3.136362\n",
       "3   61.105519      61 -0.105519     0.172982\n",
       "4   62.591147      63  0.408853     0.648972\n",
       "5   69.564912      68 -1.564912     2.301341\n",
       "6   57.144483      55 -2.144483     3.899060\n",
       "7   90.387495      89 -1.387495     1.558983\n",
       "8   90.957660      84 -6.957660     8.282929\n",
       "9   61.178670      66  4.821330     7.305046"
      ]
     },
     "execution_count": 41,
     "metadata": {},
     "output_type": "execute_result"
    }
   ],
   "source": [
    "y_test = y_test.reset_index(drop=True)\n",
    "df_pf['Target'] = y_test\n",
    "df_pf['Residual'] = df_pf['Target'] - df_pf['Prediction']\n",
    "df_pf['Difference%'] = np.absolute(df_pf['Residual']/df_pf['Target'] * 100)\n",
    "df_pf.head(10)"
   ]
  },
  {
   "cell_type": "markdown",
   "id": "f950be61",
   "metadata": {},
   "source": [
    "Выведем на экран статистическую сводку"
   ]
  },
  {
   "cell_type": "code",
   "execution_count": 42,
   "id": "eb4e7cd5",
   "metadata": {
    "scrolled": true
   },
   "outputs": [
    {
     "data": {
      "text/html": [
       "<div>\n",
       "<style scoped>\n",
       "    .dataframe tbody tr th:only-of-type {\n",
       "        vertical-align: middle;\n",
       "    }\n",
       "\n",
       "    .dataframe tbody tr th {\n",
       "        vertical-align: top;\n",
       "    }\n",
       "\n",
       "    .dataframe thead th {\n",
       "        text-align: right;\n",
       "    }\n",
       "</style>\n",
       "<table border=\"1\" class=\"dataframe\">\n",
       "  <thead>\n",
       "    <tr style=\"text-align: right;\">\n",
       "      <th></th>\n",
       "      <th>Prediction</th>\n",
       "      <th>Target</th>\n",
       "      <th>Residual</th>\n",
       "      <th>Difference%</th>\n",
       "    </tr>\n",
       "  </thead>\n",
       "  <tbody>\n",
       "    <tr>\n",
       "      <th>count</th>\n",
       "      <td>704.000000</td>\n",
       "      <td>704.000000</td>\n",
       "      <td>704.000000</td>\n",
       "      <td>704.000000</td>\n",
       "    </tr>\n",
       "    <tr>\n",
       "      <th>mean</th>\n",
       "      <td>67.287796</td>\n",
       "      <td>67.399148</td>\n",
       "      <td>0.111352</td>\n",
       "      <td>3.943745</td>\n",
       "    </tr>\n",
       "    <tr>\n",
       "      <th>std</th>\n",
       "      <td>13.719054</td>\n",
       "      <td>14.147307</td>\n",
       "      <td>3.259842</td>\n",
       "      <td>3.201900</td>\n",
       "    </tr>\n",
       "    <tr>\n",
       "      <th>min</th>\n",
       "      <td>34.547034</td>\n",
       "      <td>35.000000</td>\n",
       "      <td>-9.067736</td>\n",
       "      <td>0.007754</td>\n",
       "    </tr>\n",
       "    <tr>\n",
       "      <th>25%</th>\n",
       "      <td>56.550302</td>\n",
       "      <td>56.000000</td>\n",
       "      <td>-2.140887</td>\n",
       "      <td>1.355802</td>\n",
       "    </tr>\n",
       "    <tr>\n",
       "      <th>50%</th>\n",
       "      <td>67.531343</td>\n",
       "      <td>68.000000</td>\n",
       "      <td>0.046004</td>\n",
       "      <td>3.225473</td>\n",
       "    </tr>\n",
       "    <tr>\n",
       "      <th>75%</th>\n",
       "      <td>77.244292</td>\n",
       "      <td>78.000000</td>\n",
       "      <td>2.256931</td>\n",
       "      <td>5.535353</td>\n",
       "    </tr>\n",
       "    <tr>\n",
       "      <th>max</th>\n",
       "      <td>100.000000</td>\n",
       "      <td>100.000000</td>\n",
       "      <td>10.978330</td>\n",
       "      <td>17.386517</td>\n",
       "    </tr>\n",
       "  </tbody>\n",
       "</table>\n",
       "</div>"
      ],
      "text/plain": [
       "       Prediction      Target    Residual  Difference%\n",
       "count  704.000000  704.000000  704.000000   704.000000\n",
       "mean    67.287796   67.399148    0.111352     3.943745\n",
       "std     13.719054   14.147307    3.259842     3.201900\n",
       "min     34.547034   35.000000   -9.067736     0.007754\n",
       "25%     56.550302   56.000000   -2.140887     1.355802\n",
       "50%     67.531343   68.000000    0.046004     3.225473\n",
       "75%     77.244292   78.000000    2.256931     5.535353\n",
       "max    100.000000  100.000000   10.978330    17.386517"
      ]
     },
     "execution_count": 42,
     "metadata": {},
     "output_type": "execute_result"
    }
   ],
   "source": [
    "df_pf.describe()"
   ]
  },
  {
   "cell_type": "markdown",
   "id": "be8fa800",
   "metadata": {},
   "source": [
    "В среднем процент ошибки составляет ~4 из чего множно сделать вывод построенная многомерная линейная регрессия хорошо подходит для прогнозирования оценок за экзаменационный тест. Но т.к. максимальное значение ошибки ~17.4% посмотрим как много значений выходят за ошибку ~5,55%"
   ]
  },
  {
   "cell_type": "code",
   "execution_count": 43,
   "id": "7309f769",
   "metadata": {
    "scrolled": false
   },
   "outputs": [
    {
     "data": {
      "text/html": [
       "<div>\n",
       "<style scoped>\n",
       "    .dataframe tbody tr th:only-of-type {\n",
       "        vertical-align: middle;\n",
       "    }\n",
       "\n",
       "    .dataframe tbody tr th {\n",
       "        vertical-align: top;\n",
       "    }\n",
       "\n",
       "    .dataframe thead th {\n",
       "        text-align: right;\n",
       "    }\n",
       "</style>\n",
       "<table border=\"1\" class=\"dataframe\">\n",
       "  <thead>\n",
       "    <tr style=\"text-align: right;\">\n",
       "      <th></th>\n",
       "      <th>Prediction</th>\n",
       "      <th>Target</th>\n",
       "      <th>Residual</th>\n",
       "      <th>Difference%</th>\n",
       "    </tr>\n",
       "  </thead>\n",
       "  <tbody>\n",
       "    <tr>\n",
       "      <th>0</th>\n",
       "      <td>62.860194</td>\n",
       "      <td>68</td>\n",
       "      <td>5.139806</td>\n",
       "      <td>7.558538</td>\n",
       "    </tr>\n",
       "    <tr>\n",
       "      <th>8</th>\n",
       "      <td>90.957660</td>\n",
       "      <td>84</td>\n",
       "      <td>-6.957660</td>\n",
       "      <td>8.282929</td>\n",
       "    </tr>\n",
       "    <tr>\n",
       "      <th>9</th>\n",
       "      <td>61.178670</td>\n",
       "      <td>66</td>\n",
       "      <td>4.821330</td>\n",
       "      <td>7.305046</td>\n",
       "    </tr>\n",
       "    <tr>\n",
       "      <th>13</th>\n",
       "      <td>80.598514</td>\n",
       "      <td>75</td>\n",
       "      <td>-5.598514</td>\n",
       "      <td>7.464686</td>\n",
       "    </tr>\n",
       "    <tr>\n",
       "      <th>17</th>\n",
       "      <td>58.310105</td>\n",
       "      <td>51</td>\n",
       "      <td>-7.310105</td>\n",
       "      <td>14.333539</td>\n",
       "    </tr>\n",
       "    <tr>\n",
       "      <th>...</th>\n",
       "      <td>...</td>\n",
       "      <td>...</td>\n",
       "      <td>...</td>\n",
       "      <td>...</td>\n",
       "    </tr>\n",
       "    <tr>\n",
       "      <th>693</th>\n",
       "      <td>50.025684</td>\n",
       "      <td>46</td>\n",
       "      <td>-4.025684</td>\n",
       "      <td>8.751488</td>\n",
       "    </tr>\n",
       "    <tr>\n",
       "      <th>694</th>\n",
       "      <td>86.984384</td>\n",
       "      <td>96</td>\n",
       "      <td>9.015616</td>\n",
       "      <td>9.391266</td>\n",
       "    </tr>\n",
       "    <tr>\n",
       "      <th>696</th>\n",
       "      <td>47.770104</td>\n",
       "      <td>44</td>\n",
       "      <td>-3.770104</td>\n",
       "      <td>8.568418</td>\n",
       "    </tr>\n",
       "    <tr>\n",
       "      <th>698</th>\n",
       "      <td>58.074148</td>\n",
       "      <td>66</td>\n",
       "      <td>7.925852</td>\n",
       "      <td>12.008867</td>\n",
       "    </tr>\n",
       "    <tr>\n",
       "      <th>703</th>\n",
       "      <td>80.525723</td>\n",
       "      <td>87</td>\n",
       "      <td>6.474277</td>\n",
       "      <td>7.441697</td>\n",
       "    </tr>\n",
       "  </tbody>\n",
       "</table>\n",
       "<p>175 rows × 4 columns</p>\n",
       "</div>"
      ],
      "text/plain": [
       "     Prediction  Target  Residual  Difference%\n",
       "0     62.860194      68  5.139806     7.558538\n",
       "8     90.957660      84 -6.957660     8.282929\n",
       "9     61.178670      66  4.821330     7.305046\n",
       "13    80.598514      75 -5.598514     7.464686\n",
       "17    58.310105      51 -7.310105    14.333539\n",
       "..          ...     ...       ...          ...\n",
       "693   50.025684      46 -4.025684     8.751488\n",
       "694   86.984384      96  9.015616     9.391266\n",
       "696   47.770104      44 -3.770104     8.568418\n",
       "698   58.074148      66  7.925852    12.008867\n",
       "703   80.525723      87  6.474277     7.441697\n",
       "\n",
       "[175 rows x 4 columns]"
      ]
     },
     "execution_count": 43,
     "metadata": {},
     "output_type": "execute_result"
    }
   ],
   "source": [
    "df_pf_high_diff = df_pf.loc[df_pf['Difference%'] > 5.55]\n",
    "df_pf_high_diff"
   ]
  },
  {
   "cell_type": "code",
   "execution_count": 44,
   "id": "a74a5ae7",
   "metadata": {},
   "outputs": [
    {
     "data": {
      "text/html": [
       "<div>\n",
       "<style scoped>\n",
       "    .dataframe tbody tr th:only-of-type {\n",
       "        vertical-align: middle;\n",
       "    }\n",
       "\n",
       "    .dataframe tbody tr th {\n",
       "        vertical-align: top;\n",
       "    }\n",
       "\n",
       "    .dataframe thead th {\n",
       "        text-align: right;\n",
       "    }\n",
       "</style>\n",
       "<table border=\"1\" class=\"dataframe\">\n",
       "  <thead>\n",
       "    <tr style=\"text-align: right;\">\n",
       "      <th></th>\n",
       "      <th>Prediction</th>\n",
       "      <th>Target</th>\n",
       "      <th>Residual</th>\n",
       "      <th>Difference%</th>\n",
       "    </tr>\n",
       "  </thead>\n",
       "  <tbody>\n",
       "    <tr>\n",
       "      <th>count</th>\n",
       "      <td>34.000000</td>\n",
       "      <td>34.000000</td>\n",
       "      <td>34.000000</td>\n",
       "      <td>34.000000</td>\n",
       "    </tr>\n",
       "    <tr>\n",
       "      <th>mean</th>\n",
       "      <td>56.859575</td>\n",
       "      <td>56.441176</td>\n",
       "      <td>-0.418398</td>\n",
       "      <td>12.951857</td>\n",
       "    </tr>\n",
       "    <tr>\n",
       "      <th>std</th>\n",
       "      <td>11.247453</td>\n",
       "      <td>13.924452</td>\n",
       "      <td>7.374100</td>\n",
       "      <td>2.223704</td>\n",
       "    </tr>\n",
       "    <tr>\n",
       "      <th>min</th>\n",
       "      <td>38.274253</td>\n",
       "      <td>36.000000</td>\n",
       "      <td>-9.067736</td>\n",
       "      <td>10.165789</td>\n",
       "    </tr>\n",
       "    <tr>\n",
       "      <th>25%</th>\n",
       "      <td>49.763825</td>\n",
       "      <td>46.250000</td>\n",
       "      <td>-6.851685</td>\n",
       "      <td>11.029269</td>\n",
       "    </tr>\n",
       "    <tr>\n",
       "      <th>50%</th>\n",
       "      <td>55.461274</td>\n",
       "      <td>53.500000</td>\n",
       "      <td>-5.452849</td>\n",
       "      <td>12.271869</td>\n",
       "    </tr>\n",
       "    <tr>\n",
       "      <th>75%</th>\n",
       "      <td>62.748710</td>\n",
       "      <td>65.000000</td>\n",
       "      <td>7.182510</td>\n",
       "      <td>14.453330</td>\n",
       "    </tr>\n",
       "    <tr>\n",
       "      <th>max</th>\n",
       "      <td>81.485669</td>\n",
       "      <td>91.000000</td>\n",
       "      <td>10.978330</td>\n",
       "      <td>17.386517</td>\n",
       "    </tr>\n",
       "  </tbody>\n",
       "</table>\n",
       "</div>"
      ],
      "text/plain": [
       "       Prediction     Target   Residual  Difference%\n",
       "count   34.000000  34.000000  34.000000    34.000000\n",
       "mean    56.859575  56.441176  -0.418398    12.951857\n",
       "std     11.247453  13.924452   7.374100     2.223704\n",
       "min     38.274253  36.000000  -9.067736    10.165789\n",
       "25%     49.763825  46.250000  -6.851685    11.029269\n",
       "50%     55.461274  53.500000  -5.452849    12.271869\n",
       "75%     62.748710  65.000000   7.182510    14.453330\n",
       "max     81.485669  91.000000  10.978330    17.386517"
      ]
     },
     "execution_count": 44,
     "metadata": {},
     "output_type": "execute_result"
    }
   ],
   "source": [
    "df_pf_high_diff = df_pf.loc[df_pf['Difference%'] > 10]\n",
    "df_pf_high_diff.describe()"
   ]
  }
 ],
 "metadata": {
  "kernelspec": {
   "display_name": "Python 3 (ipykernel)",
   "language": "python",
   "name": "python3"
  },
  "language_info": {
   "codemirror_mode": {
    "name": "ipython",
    "version": 3
   },
   "file_extension": ".py",
   "mimetype": "text/x-python",
   "name": "python",
   "nbconvert_exporter": "python",
   "pygments_lexer": "ipython3",
   "version": "3.9.13"
  }
 },
 "nbformat": 4,
 "nbformat_minor": 5
}
