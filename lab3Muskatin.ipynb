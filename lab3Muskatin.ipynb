{
 "cells": [
  {
   "cell_type": "markdown",
   "id": "962652cb",
   "metadata": {},
   "source": [
    "# МНОГОМЕРНАЯ ЛИНЕЙНАЯ РЕГРЕССИЯ"
   ]
  },
  {
   "cell_type": "markdown",
   "id": "9fd26a3a",
   "metadata": {},
   "source": [
    "### Цель: построить модель для прогноза трат клиентов в год в онлайн магазине"
   ]
  },
  {
   "cell_type": "code",
   "execution_count": 1,
   "id": "4c43d5db",
   "metadata": {},
   "outputs": [],
   "source": [
    "# pandas — программная библиотека на языке Python для обработки и анализа данных.\n",
    "# подключаем для работы с данными и их обработки \n",
    "import pandas as pd\n",
    "\n",
    "# seaborn — это библиотека для создания статистических графиков на Python\n",
    "# она основывается на matplotlib и тесно взаимодействует со структурами данных pandas\n",
    "# подключаем для перевода наших данных в графическое представление\n",
    "import seaborn as sns \n",
    "\n",
    "sns.set() # установливаем стили для графиков - seaborn\n",
    "\n",
    "import matplotlib.pyplot as plt\n",
    "import numpy as np\n",
    "#это модуль Python, который предоставляет классы и функции для оценки различных статистических моделей,\n",
    "#выполнения статистических тестов и изучения статистических данных\n",
    "import statsmodels.api as sm\n",
    "\n",
    "#sklearn - библиотека программного обеспечения для машинного обучения\n",
    "from sklearn.linear_model import LinearRegression\n",
    "from sklearn.model_selection import train_test_split, cross_val_score\n",
    "\n",
    "import warnings # инструмент контроля предупреждений\n",
    "warnings.simplefilter('ignore') # отключаем несерьезные предупреждения\n",
    "\n",
    "%matplotlib inline"
   ]
  },
  {
   "cell_type": "markdown",
   "id": "a97cea91",
   "metadata": {},
   "source": [
    "### Загружаем данные из файла"
   ]
  },
  {
   "cell_type": "code",
   "execution_count": 2,
   "id": "9a4b9706",
   "metadata": {
    "scrolled": true
   },
   "outputs": [
    {
     "data": {
      "text/html": [
       "<div>\n",
       "<style scoped>\n",
       "    .dataframe tbody tr th:only-of-type {\n",
       "        vertical-align: middle;\n",
       "    }\n",
       "\n",
       "    .dataframe tbody tr th {\n",
       "        vertical-align: top;\n",
       "    }\n",
       "\n",
       "    .dataframe thead th {\n",
       "        text-align: right;\n",
       "    }\n",
       "</style>\n",
       "<table border=\"1\" class=\"dataframe\">\n",
       "  <thead>\n",
       "    <tr style=\"text-align: right;\">\n",
       "      <th></th>\n",
       "      <th>Email</th>\n",
       "      <th>Address</th>\n",
       "      <th>Avatar</th>\n",
       "      <th>Avg Session Length</th>\n",
       "      <th>Time on App</th>\n",
       "      <th>Time on Website</th>\n",
       "      <th>Length of Membership</th>\n",
       "      <th>Yearly Amount Spent</th>\n",
       "    </tr>\n",
       "  </thead>\n",
       "  <tbody>\n",
       "    <tr>\n",
       "      <th>0</th>\n",
       "      <td>mstephenson@fernandez.com</td>\n",
       "      <td>835 Frank TunnelWrightmouth, MI 82180-9605</td>\n",
       "      <td>Violet</td>\n",
       "      <td>34.497268</td>\n",
       "      <td>12.655651</td>\n",
       "      <td>39.577668</td>\n",
       "      <td>4.082621</td>\n",
       "      <td>587.951054</td>\n",
       "    </tr>\n",
       "    <tr>\n",
       "      <th>1</th>\n",
       "      <td>hduke@hotmail.com</td>\n",
       "      <td>4547 Archer CommonDiazchester, CA 06566-8576</td>\n",
       "      <td>DarkGreen</td>\n",
       "      <td>31.926272</td>\n",
       "      <td>11.109461</td>\n",
       "      <td>37.268959</td>\n",
       "      <td>2.664034</td>\n",
       "      <td>392.204933</td>\n",
       "    </tr>\n",
       "    <tr>\n",
       "      <th>2</th>\n",
       "      <td>pallen@yahoo.com</td>\n",
       "      <td>24645 Valerie Unions Suite 582Cobbborough, DC ...</td>\n",
       "      <td>Bisque</td>\n",
       "      <td>33.000915</td>\n",
       "      <td>11.330278</td>\n",
       "      <td>37.110597</td>\n",
       "      <td>4.104543</td>\n",
       "      <td>487.547505</td>\n",
       "    </tr>\n",
       "  </tbody>\n",
       "</table>\n",
       "</div>"
      ],
      "text/plain": [
       "                       Email  \\\n",
       "0  mstephenson@fernandez.com   \n",
       "1          hduke@hotmail.com   \n",
       "2           pallen@yahoo.com   \n",
       "\n",
       "                                             Address     Avatar  \\\n",
       "0         835 Frank TunnelWrightmouth, MI 82180-9605     Violet   \n",
       "1       4547 Archer CommonDiazchester, CA 06566-8576  DarkGreen   \n",
       "2  24645 Valerie Unions Suite 582Cobbborough, DC ...     Bisque   \n",
       "\n",
       "   Avg Session Length  Time on App  Time on Website  Length of Membership  \\\n",
       "0           34.497268    12.655651        39.577668              4.082621   \n",
       "1           31.926272    11.109461        37.268959              2.664034   \n",
       "2           33.000915    11.330278        37.110597              4.104543   \n",
       "\n",
       "   Yearly Amount Spent  \n",
       "0           587.951054  \n",
       "1           392.204933  \n",
       "2           487.547505  "
      ]
     },
     "execution_count": 2,
     "metadata": {},
     "output_type": "execute_result"
    }
   ],
   "source": [
    "raw_data = pd.read_csv('EcommerceCustomers.csv')\n",
    "raw_data.head(3)"
   ]
  },
  {
   "cell_type": "markdown",
   "id": "6d78dfe1",
   "metadata": {},
   "source": [
    "В искомом наборе данных можно сделать вывод о том что Email и Avatar не вляют на сумму трат в год, поэтому можем их удалить, Address может влиять на колличество трат в год, т.к. \"дорогие\" районы будут требовать больше затра, когда иные районы будут требовать меньше денег на услуги/товари/т.д., но т.к. у нас нет данных о \"качествае\" районов к которым относятся указанные улицы."
   ]
  },
  {
   "cell_type": "code",
   "execution_count": 3,
   "id": "8ac92626",
   "metadata": {},
   "outputs": [],
   "source": [
    "data = raw_data.drop(columns=['Email', 'Address','Avatar'],axis=1)"
   ]
  },
  {
   "cell_type": "markdown",
   "id": "866a0f85",
   "metadata": {},
   "source": [
    "Проверим датасет, после удаления не нужных строк, на пропуски в оставшихся данных"
   ]
  },
  {
   "cell_type": "code",
   "execution_count": 4,
   "id": "7a8ccaec",
   "metadata": {},
   "outputs": [
    {
     "data": {
      "text/plain": [
       "Avg Session Length      0\n",
       "Time on App             0\n",
       "Time on Website         0\n",
       "Length of Membership    0\n",
       "Yearly Amount Spent     0\n",
       "dtype: int64"
      ]
     },
     "execution_count": 4,
     "metadata": {},
     "output_type": "execute_result"
    }
   ],
   "source": [
    "data.isnull().sum() "
   ]
  },
  {
   "cell_type": "markdown",
   "id": "d2d431a8",
   "metadata": {},
   "source": [
    "Т.к. пропусков нет перейдем к построению многомерной регрессии по нашим данным"
   ]
  },
  {
   "cell_type": "markdown",
   "id": "d93b53f1",
   "metadata": {},
   "source": [
    "## Построение многомерный регрессии "
   ]
  },
  {
   "cell_type": "markdown",
   "id": "a0eeed10",
   "metadata": {},
   "source": [
    "Выделим незаисимые переменные и целевую переменную"
   ]
  },
  {
   "cell_type": "code",
   "execution_count": 5,
   "id": "6d0c1c9d",
   "metadata": {},
   "outputs": [],
   "source": [
    "targets = data['Yearly Amount Spent'] #Целевая переменная\n",
    "inputs = data.drop('Yearly Amount Spent',axis = 1) # Независимые переменные"
   ]
  },
  {
   "cell_type": "code",
   "execution_count": 6,
   "id": "ca26ab27",
   "metadata": {},
   "outputs": [
    {
     "data": {
      "text/plain": [
       "0    587.951054\n",
       "1    392.204933\n",
       "2    487.547505\n",
       "Name: Yearly Amount Spent, dtype: float64"
      ]
     },
     "execution_count": 6,
     "metadata": {},
     "output_type": "execute_result"
    }
   ],
   "source": [
    "targets.head(3)"
   ]
  },
  {
   "cell_type": "code",
   "execution_count": 7,
   "id": "2a2bfc30",
   "metadata": {},
   "outputs": [
    {
     "data": {
      "text/html": [
       "<div>\n",
       "<style scoped>\n",
       "    .dataframe tbody tr th:only-of-type {\n",
       "        vertical-align: middle;\n",
       "    }\n",
       "\n",
       "    .dataframe tbody tr th {\n",
       "        vertical-align: top;\n",
       "    }\n",
       "\n",
       "    .dataframe thead th {\n",
       "        text-align: right;\n",
       "    }\n",
       "</style>\n",
       "<table border=\"1\" class=\"dataframe\">\n",
       "  <thead>\n",
       "    <tr style=\"text-align: right;\">\n",
       "      <th></th>\n",
       "      <th>Avg Session Length</th>\n",
       "      <th>Time on App</th>\n",
       "      <th>Time on Website</th>\n",
       "      <th>Length of Membership</th>\n",
       "    </tr>\n",
       "  </thead>\n",
       "  <tbody>\n",
       "    <tr>\n",
       "      <th>0</th>\n",
       "      <td>34.497268</td>\n",
       "      <td>12.655651</td>\n",
       "      <td>39.577668</td>\n",
       "      <td>4.082621</td>\n",
       "    </tr>\n",
       "    <tr>\n",
       "      <th>1</th>\n",
       "      <td>31.926272</td>\n",
       "      <td>11.109461</td>\n",
       "      <td>37.268959</td>\n",
       "      <td>2.664034</td>\n",
       "    </tr>\n",
       "    <tr>\n",
       "      <th>2</th>\n",
       "      <td>33.000915</td>\n",
       "      <td>11.330278</td>\n",
       "      <td>37.110597</td>\n",
       "      <td>4.104543</td>\n",
       "    </tr>\n",
       "  </tbody>\n",
       "</table>\n",
       "</div>"
      ],
      "text/plain": [
       "   Avg Session Length  Time on App  Time on Website  Length of Membership\n",
       "0           34.497268    12.655651        39.577668              4.082621\n",
       "1           31.926272    11.109461        37.268959              2.664034\n",
       "2           33.000915    11.330278        37.110597              4.104543"
      ]
     },
     "execution_count": 7,
     "metadata": {},
     "output_type": "execute_result"
    }
   ],
   "source": [
    "inputs.head(3)"
   ]
  },
  {
   "cell_type": "markdown",
   "id": "eada6065",
   "metadata": {},
   "source": [
    "Берем следующее соотношение данных - тестовый набор данных = 1/3, тренировной набор данных = 2/3"
   ]
  },
  {
   "cell_type": "code",
   "execution_count": 8,
   "id": "40197bd6",
   "metadata": {},
   "outputs": [],
   "source": [
    "x_train, x_test, y_train, y_test = train_test_split(inputs, targets, test_size = 0.33, random_state = 1234)"
   ]
  },
  {
   "cell_type": "markdown",
   "id": "fdeadee3",
   "metadata": {},
   "source": [
    "## Создаём модель "
   ]
  },
  {
   "cell_type": "markdown",
   "id": "54cddb01",
   "metadata": {},
   "source": [
    "Инициализируем линенйную регрессию и подставляем туда тренировочные данные"
   ]
  },
  {
   "cell_type": "code",
   "execution_count": 9,
   "id": "af5ea8cd",
   "metadata": {},
   "outputs": [
    {
     "data": {
      "image/png": "[encoded data removed]",
      "text/plain": [
       "<Figure size 432x288 with 1 Axes>"
      ]
     },
     "metadata": {
      "needs_background": "light"
     },
     "output_type": "display_data"
    }
   ],
   "source": [
    "reg = LinearRegression()\n",
    "reg.fit(x_train, y_train)\n",
    "y_pred = reg.predict(x_train)\n",
    "plt.scatter(y_train, y_pred)\n",
    "plt.xlabel('Targets (y_train)',size = 18)\n",
    "plt.ylabel('Predictions (y_pred)',size = 18)\n",
    "plt.show()"
   ]
  },
  {
   "cell_type": "markdown",
   "id": "7fa569e5",
   "metadata": {},
   "source": [
    "Облако точек выстроено в линию 45 градуссов и имеет минимальное рассеивание, значит у нас получился хороший прогноз "
   ]
  },
  {
   "cell_type": "markdown",
   "id": "c675966e",
   "metadata": {},
   "source": [
    "Построим график распредления остатков"
   ]
  },
  {
   "cell_type": "code",
   "execution_count": 10,
   "id": "7e0b3865",
   "metadata": {},
   "outputs": [
    {
     "data": {
      "text/plain": [
       "Text(0.5, 1.0, 'Residuals PDF')"
      ]
     },
     "execution_count": 10,
     "metadata": {},
     "output_type": "execute_result"
    },
    {
     "data": {
      "image/png": "[encoded data removed]",
      "text/plain": [
       "<Figure size 432x288 with 1 Axes>"
      ]
     },
     "metadata": {
      "needs_background": "light"
     },
     "output_type": "display_data"
    }
   ],
   "source": [
    "sns.distplot(y_train - y_pred)\n",
    "plt.title(\"Residuals PDF\", size = 18)"
   ]
  },
  {
   "cell_type": "markdown",
   "id": "00d3e952",
   "metadata": {},
   "source": [
    "Выполним вычисление r^2 для тренировочоных данных. "
   ]
  },
  {
   "cell_type": "code",
   "execution_count": 11,
   "id": "65320b31",
   "metadata": {},
   "outputs": [
    {
     "data": {
      "text/plain": [
       "0.9857203289694556"
      ]
     },
     "execution_count": 11,
     "metadata": {},
     "output_type": "execute_result"
    }
   ],
   "source": [
    "reg.score(x_train, y_train)"
   ]
  },
  {
   "cell_type": "markdown",
   "id": "38fa64f9",
   "metadata": {},
   "source": [
    "## Находим значение весов"
   ]
  },
  {
   "cell_type": "markdown",
   "id": "ec381f18",
   "metadata": {},
   "source": [
    "В моделе мы получаем вектор w = (w1,...,w4) как coef_ и w0 как intercept_.\n",
    "\n",
    "Найдем w0 и w."
   ]
  },
  {
   "cell_type": "code",
   "execution_count": 12,
   "id": "6ae179ce",
   "metadata": {},
   "outputs": [
    {
     "data": {
      "text/plain": [
       "-1047.5532652233198"
      ]
     },
     "execution_count": 12,
     "metadata": {},
     "output_type": "execute_result"
    }
   ],
   "source": [
    "reg.intercept_"
   ]
  },
  {
   "cell_type": "code",
   "execution_count": 13,
   "id": "a888e61e",
   "metadata": {
    "scrolled": true
   },
   "outputs": [
    {
     "data": {
      "text/plain": [
       "array([25.60461589, 38.29501822,  0.51840421, 62.26477162])"
      ]
     },
     "execution_count": 13,
     "metadata": {},
     "output_type": "execute_result"
    }
   ],
   "source": [
    "reg.coef_"
   ]
  },
  {
   "cell_type": "markdown",
   "id": "14aa748f",
   "metadata": {},
   "source": [
    "Получим значение w для каждой независимой переменной.\n",
    "\n",
    "Создадим сводку весов и переменных."
   ]
  },
  {
   "cell_type": "code",
   "execution_count": 14,
   "id": "ccb779a6",
   "metadata": {},
   "outputs": [
    {
     "data": {
      "text/html": [
       "<div>\n",
       "<style scoped>\n",
       "    .dataframe tbody tr th:only-of-type {\n",
       "        vertical-align: middle;\n",
       "    }\n",
       "\n",
       "    .dataframe tbody tr th {\n",
       "        vertical-align: top;\n",
       "    }\n",
       "\n",
       "    .dataframe thead th {\n",
       "        text-align: right;\n",
       "    }\n",
       "</style>\n",
       "<table border=\"1\" class=\"dataframe\">\n",
       "  <thead>\n",
       "    <tr style=\"text-align: right;\">\n",
       "      <th></th>\n",
       "      <th>Features</th>\n",
       "      <th>Weights</th>\n",
       "    </tr>\n",
       "  </thead>\n",
       "  <tbody>\n",
       "    <tr>\n",
       "      <th>0</th>\n",
       "      <td>Avg Session Length</td>\n",
       "      <td>25.604616</td>\n",
       "    </tr>\n",
       "    <tr>\n",
       "      <th>1</th>\n",
       "      <td>Time on App</td>\n",
       "      <td>38.295018</td>\n",
       "    </tr>\n",
       "    <tr>\n",
       "      <th>2</th>\n",
       "      <td>Time on Website</td>\n",
       "      <td>0.518404</td>\n",
       "    </tr>\n",
       "    <tr>\n",
       "      <th>3</th>\n",
       "      <td>Length of Membership</td>\n",
       "      <td>62.264772</td>\n",
       "    </tr>\n",
       "  </tbody>\n",
       "</table>\n",
       "</div>"
      ],
      "text/plain": [
       "               Features    Weights\n",
       "0    Avg Session Length  25.604616\n",
       "1           Time on App  38.295018\n",
       "2       Time on Website   0.518404\n",
       "3  Length of Membership  62.264772"
      ]
     },
     "execution_count": 14,
     "metadata": {},
     "output_type": "execute_result"
    }
   ],
   "source": [
    "reg_summary = pd.DataFrame(inputs.columns.values, columns = ['Features'])\n",
    "reg_summary['Weights'] = reg.coef_\n",
    "reg_summary"
   ]
  },
  {
   "cell_type": "markdown",
   "id": "3ddfbf28",
   "metadata": {},
   "source": [
    "Все коэффициенты является положительным, значит, данные параметры влияют положительно на целевую переменную Yearly Amount Spent.\n",
    "\n",
    "Коэффициент при Time on Website положительный, но имеет небольшой вес, значит данный параметр не оказывает значительного влияния на целевую переменную. "
   ]
  },
  {
   "cell_type": "markdown",
   "id": "9385808a",
   "metadata": {},
   "source": [
    "Посмотрим прогноз для тестовых данных.\n",
    "\n",
    "Сравниваем тестовые фактические значения с тестовыми значениями прогнозов."
   ]
  },
  {
   "cell_type": "code",
   "execution_count": 15,
   "id": "8e408d2c",
   "metadata": {
    "scrolled": true
   },
   "outputs": [
    {
     "data": {
      "image/png": "[encoded data removed]",
      "text/plain": [
       "<Figure size 432x288 with 1 Axes>"
      ]
     },
     "metadata": {
      "needs_background": "light"
     },
     "output_type": "display_data"
    }
   ],
   "source": [
    "y_pred_test = reg.predict(x_test)\n",
    "plt.scatter(y_test, y_pred_test)\n",
    "plt.xlabel('Targets (y_train)',size = 18)\n",
    "plt.ylabel('Predictions (y_pred)',size = 18)\n",
    "plt.show()"
   ]
  },
  {
   "cell_type": "markdown",
   "id": "b9b3f1b0",
   "metadata": {},
   "source": [
    "Вывод: Облако точек похоже на линию в 45 градуссов, значит прогноз хороший. Рассеивание минимально.\n",
    "\n",
    "Посчитаем критерий эффективности r^2."
   ]
  },
  {
   "cell_type": "code",
   "execution_count": 16,
   "id": "21d32031",
   "metadata": {},
   "outputs": [
    {
     "data": {
      "text/plain": [
       "0.9804318303041285"
      ]
     },
     "execution_count": 16,
     "metadata": {},
     "output_type": "execute_result"
    }
   ],
   "source": [
    "reg.score(x_test, y_test)"
   ]
  },
  {
   "cell_type": "markdown",
   "id": "7c7c4fa8",
   "metadata": {},
   "source": [
    "## Метод кросс-валидации"
   ]
  },
  {
   "cell_type": "markdown",
   "id": "bc9a265c",
   "metadata": {},
   "source": [
    "Выполним вычисление r^2"
   ]
  },
  {
   "cell_type": "code",
   "execution_count": 17,
   "id": "29048c64",
   "metadata": {},
   "outputs": [
    {
     "data": {
      "text/plain": [
       "0.9825492707486994"
      ]
     },
     "execution_count": 17,
     "metadata": {},
     "output_type": "execute_result"
    }
   ],
   "source": [
    "scores = cross_val_score(reg, inputs, targets, cv = 10)\n",
    "cv_scrore = scores.mean()\n",
    "cv_scrore"
   ]
  },
  {
   "cell_type": "markdown",
   "id": "7efbfc17",
   "metadata": {},
   "source": [
    "Выведем предсказанные значения"
   ]
  },
  {
   "cell_type": "code",
   "execution_count": 18,
   "id": "f134bdea",
   "metadata": {},
   "outputs": [
    {
     "data": {
      "text/html": [
       "<div>\n",
       "<style scoped>\n",
       "    .dataframe tbody tr th:only-of-type {\n",
       "        vertical-align: middle;\n",
       "    }\n",
       "\n",
       "    .dataframe tbody tr th {\n",
       "        vertical-align: top;\n",
       "    }\n",
       "\n",
       "    .dataframe thead th {\n",
       "        text-align: right;\n",
       "    }\n",
       "</style>\n",
       "<table border=\"1\" class=\"dataframe\">\n",
       "  <thead>\n",
       "    <tr style=\"text-align: right;\">\n",
       "      <th></th>\n",
       "      <th>Prediction</th>\n",
       "    </tr>\n",
       "  </thead>\n",
       "  <tbody>\n",
       "    <tr>\n",
       "      <th>0</th>\n",
       "      <td>478.673883</td>\n",
       "    </tr>\n",
       "    <tr>\n",
       "      <th>1</th>\n",
       "      <td>508.018868</td>\n",
       "    </tr>\n",
       "    <tr>\n",
       "      <th>2</th>\n",
       "      <td>548.921760</td>\n",
       "    </tr>\n",
       "    <tr>\n",
       "      <th>3</th>\n",
       "      <td>397.995781</td>\n",
       "    </tr>\n",
       "    <tr>\n",
       "      <th>4</th>\n",
       "      <td>443.939879</td>\n",
       "    </tr>\n",
       "  </tbody>\n",
       "</table>\n",
       "</div>"
      ],
      "text/plain": [
       "   Prediction\n",
       "0  478.673883\n",
       "1  508.018868\n",
       "2  548.921760\n",
       "3  397.995781\n",
       "4  443.939879"
      ]
     },
     "execution_count": 18,
     "metadata": {},
     "output_type": "execute_result"
    }
   ],
   "source": [
    "df_pf = pd.DataFrame(y_pred_test, columns = ['Prediction'])\n",
    "df_pf.head()"
   ]
  },
  {
   "cell_type": "markdown",
   "id": "7520d21f",
   "metadata": {},
   "source": [
    "Сравним фактические результаты с спрогнозированными"
   ]
  },
  {
   "cell_type": "code",
   "execution_count": 19,
   "id": "8f4f4ed7",
   "metadata": {},
   "outputs": [
    {
     "data": {
      "text/html": [
       "<div>\n",
       "<style scoped>\n",
       "    .dataframe tbody tr th:only-of-type {\n",
       "        vertical-align: middle;\n",
       "    }\n",
       "\n",
       "    .dataframe tbody tr th {\n",
       "        vertical-align: top;\n",
       "    }\n",
       "\n",
       "    .dataframe thead th {\n",
       "        text-align: right;\n",
       "    }\n",
       "</style>\n",
       "<table border=\"1\" class=\"dataframe\">\n",
       "  <thead>\n",
       "    <tr style=\"text-align: right;\">\n",
       "      <th></th>\n",
       "      <th>Prediction</th>\n",
       "      <th>Target</th>\n",
       "      <th>Residual</th>\n",
       "      <th>Difference%</th>\n",
       "    </tr>\n",
       "  </thead>\n",
       "  <tbody>\n",
       "    <tr>\n",
       "      <th>0</th>\n",
       "      <td>478.673883</td>\n",
       "      <td>469.310861</td>\n",
       "      <td>-9.363021</td>\n",
       "      <td>1.995057</td>\n",
       "    </tr>\n",
       "    <tr>\n",
       "      <th>1</th>\n",
       "      <td>508.018868</td>\n",
       "      <td>511.038786</td>\n",
       "      <td>3.019918</td>\n",
       "      <td>0.590937</td>\n",
       "    </tr>\n",
       "    <tr>\n",
       "      <th>2</th>\n",
       "      <td>548.921760</td>\n",
       "      <td>535.480775</td>\n",
       "      <td>-13.440985</td>\n",
       "      <td>2.510078</td>\n",
       "    </tr>\n",
       "    <tr>\n",
       "      <th>3</th>\n",
       "      <td>397.995781</td>\n",
       "      <td>382.416108</td>\n",
       "      <td>-15.579673</td>\n",
       "      <td>4.074011</td>\n",
       "    </tr>\n",
       "    <tr>\n",
       "      <th>4</th>\n",
       "      <td>443.939879</td>\n",
       "      <td>424.762636</td>\n",
       "      <td>-19.177243</td>\n",
       "      <td>4.514814</td>\n",
       "    </tr>\n",
       "    <tr>\n",
       "      <th>5</th>\n",
       "      <td>430.342770</td>\n",
       "      <td>445.062186</td>\n",
       "      <td>14.719416</td>\n",
       "      <td>3.307272</td>\n",
       "    </tr>\n",
       "    <tr>\n",
       "      <th>6</th>\n",
       "      <td>286.902202</td>\n",
       "      <td>282.471246</td>\n",
       "      <td>-4.430957</td>\n",
       "      <td>1.568640</td>\n",
       "    </tr>\n",
       "    <tr>\n",
       "      <th>7</th>\n",
       "      <td>534.546716</td>\n",
       "      <td>540.263400</td>\n",
       "      <td>5.716684</td>\n",
       "      <td>1.058129</td>\n",
       "    </tr>\n",
       "    <tr>\n",
       "      <th>8</th>\n",
       "      <td>484.722485</td>\n",
       "      <td>486.838935</td>\n",
       "      <td>2.116449</td>\n",
       "      <td>0.434733</td>\n",
       "    </tr>\n",
       "    <tr>\n",
       "      <th>9</th>\n",
       "      <td>427.707240</td>\n",
       "      <td>430.588883</td>\n",
       "      <td>2.881643</td>\n",
       "      <td>0.669233</td>\n",
       "    </tr>\n",
       "  </tbody>\n",
       "</table>\n",
       "</div>"
      ],
      "text/plain": [
       "   Prediction      Target   Residual  Difference%\n",
       "0  478.673883  469.310861  -9.363021     1.995057\n",
       "1  508.018868  511.038786   3.019918     0.590937\n",
       "2  548.921760  535.480775 -13.440985     2.510078\n",
       "3  397.995781  382.416108 -15.579673     4.074011\n",
       "4  443.939879  424.762636 -19.177243     4.514814\n",
       "5  430.342770  445.062186  14.719416     3.307272\n",
       "6  286.902202  282.471246  -4.430957     1.568640\n",
       "7  534.546716  540.263400   5.716684     1.058129\n",
       "8  484.722485  486.838935   2.116449     0.434733\n",
       "9  427.707240  430.588883   2.881643     0.669233"
      ]
     },
     "execution_count": 19,
     "metadata": {},
     "output_type": "execute_result"
    }
   ],
   "source": [
    "y_test = y_test.reset_index(drop=True)\n",
    "df_pf['Target'] = y_test\n",
    "df_pf['Residual'] = df_pf['Target'] - df_pf['Prediction']\n",
    "df_pf['Difference%'] = np.absolute(df_pf['Residual']/df_pf['Target'] * 100)\n",
    "df_pf.head(10)"
   ]
  },
  {
   "cell_type": "markdown",
   "id": "f950be61",
   "metadata": {},
   "source": [
    "Выведем на экран статистическую сводку"
   ]
  },
  {
   "cell_type": "code",
   "execution_count": 20,
   "id": "eb4e7cd5",
   "metadata": {},
   "outputs": [
    {
     "data": {
      "text/html": [
       "<div>\n",
       "<style scoped>\n",
       "    .dataframe tbody tr th:only-of-type {\n",
       "        vertical-align: middle;\n",
       "    }\n",
       "\n",
       "    .dataframe tbody tr th {\n",
       "        vertical-align: top;\n",
       "    }\n",
       "\n",
       "    .dataframe thead th {\n",
       "        text-align: right;\n",
       "    }\n",
       "</style>\n",
       "<table border=\"1\" class=\"dataframe\">\n",
       "  <thead>\n",
       "    <tr style=\"text-align: right;\">\n",
       "      <th></th>\n",
       "      <th>Prediction</th>\n",
       "      <th>Target</th>\n",
       "      <th>Residual</th>\n",
       "      <th>Difference%</th>\n",
       "    </tr>\n",
       "  </thead>\n",
       "  <tbody>\n",
       "    <tr>\n",
       "      <th>count</th>\n",
       "      <td>165.000000</td>\n",
       "      <td>165.000000</td>\n",
       "      <td>165.000000</td>\n",
       "      <td>165.000000</td>\n",
       "    </tr>\n",
       "    <tr>\n",
       "      <th>mean</th>\n",
       "      <td>499.023117</td>\n",
       "      <td>498.357258</td>\n",
       "      <td>-0.665859</td>\n",
       "      <td>1.685837</td>\n",
       "    </tr>\n",
       "    <tr>\n",
       "      <th>std</th>\n",
       "      <td>74.296315</td>\n",
       "      <td>73.995158</td>\n",
       "      <td>10.329337</td>\n",
       "      <td>1.367880</td>\n",
       "    </tr>\n",
       "    <tr>\n",
       "      <th>min</th>\n",
       "      <td>253.895153</td>\n",
       "      <td>256.670582</td>\n",
       "      <td>-30.334868</td>\n",
       "      <td>0.001409</td>\n",
       "    </tr>\n",
       "    <tr>\n",
       "      <th>25%</th>\n",
       "      <td>449.214440</td>\n",
       "      <td>448.229829</td>\n",
       "      <td>-7.533168</td>\n",
       "      <td>0.669233</td>\n",
       "    </tr>\n",
       "    <tr>\n",
       "      <th>50%</th>\n",
       "      <td>497.764649</td>\n",
       "      <td>495.299443</td>\n",
       "      <td>-0.513476</td>\n",
       "      <td>1.397431</td>\n",
       "    </tr>\n",
       "    <tr>\n",
       "      <th>75%</th>\n",
       "      <td>548.267797</td>\n",
       "      <td>547.190749</td>\n",
       "      <td>5.179561</td>\n",
       "      <td>2.388663</td>\n",
       "    </tr>\n",
       "    <tr>\n",
       "      <th>max</th>\n",
       "      <td>704.503275</td>\n",
       "      <td>700.917092</td>\n",
       "      <td>30.923112</td>\n",
       "      <td>7.289997</td>\n",
       "    </tr>\n",
       "  </tbody>\n",
       "</table>\n",
       "</div>"
      ],
      "text/plain": [
       "       Prediction      Target    Residual  Difference%\n",
       "count  165.000000  165.000000  165.000000   165.000000\n",
       "mean   499.023117  498.357258   -0.665859     1.685837\n",
       "std     74.296315   73.995158   10.329337     1.367880\n",
       "min    253.895153  256.670582  -30.334868     0.001409\n",
       "25%    449.214440  448.229829   -7.533168     0.669233\n",
       "50%    497.764649  495.299443   -0.513476     1.397431\n",
       "75%    548.267797  547.190749    5.179561     2.388663\n",
       "max    704.503275  700.917092   30.923112     7.289997"
      ]
     },
     "execution_count": 20,
     "metadata": {},
     "output_type": "execute_result"
    }
   ],
   "source": [
    "df_pf.describe()"
   ]
  },
  {
   "cell_type": "markdown",
   "id": "be8fa800",
   "metadata": {},
   "source": [
    "В среднем процент ошибки составляет 1.69 из чего множно сделать вывод построенная многомерная линейная регрессия хорошо подходит для прогнозирования Yearly Amount Spent"
   ]
  },
  {
   "cell_type": "code",
   "execution_count": null,
   "id": "417f6bfd",
   "metadata": {},
   "outputs": [],
   "source": []
  }
 ],
 "metadata": {
  "kernelspec": {
   "display_name": "Python 3 (ipykernel)",
   "language": "python",
   "name": "python3"
  },
  "language_info": {
   "codemirror_mode": {
    "name": "ipython",
    "version": 3
   },
   "file_extension": ".py",
   "mimetype": "text/x-python",
   "name": "python",
   "nbconvert_exporter": "python",
   "pygments_lexer": "ipython3",
   "version": "3.9.12"
  }
 },
 "nbformat": 4,
 "nbformat_minor": 5
}
